{
 "cells": [
  {
   "cell_type": "markdown",
   "id": "5aea8857",
   "metadata": {},
   "source": [
    "# 1. What is NumPy and Why It’s Better Than Lists\n",
    "\n",
    "NumPy (Numerical Python) is a Python library used to work with large, multi-dimensional arrays and matrices, along with a collection of mathematical functions to operate on them"
   ]
  },
  {
   "cell_type": "markdown",
   "id": "5fdcb09c",
   "metadata": {},
   "source": [
    "| Feature          | Python List         | NumPy Array                        |\n",
    "| ---------------- | ------------------- | ---------------------------------- |\n",
    "| Speed            | Slow for large data | Very fast due to C backend         |\n",
    "| Memory Usage     | Inefficient         | Efficient, fixed-type data storage |\n",
    "| Operations       | Manual looping      | Vectorized operations              |\n",
    "| Type Consistency | Mixed types allowed | Homogeneous (better performance)   |\n"
   ]
  },
  {
   "cell_type": "code",
   "execution_count": 4,
   "id": "83c3a4ac",
   "metadata": {},
   "outputs": [
    {
     "name": "stdout",
     "output_type": "stream",
     "text": [
      "List time: 0.04579973220825195\n",
      "NumPy time: 0.0023746490478515625\n",
      "numpy array is faster than python list by :  19.0\n"
     ]
    }
   ],
   "source": [
    "import numpy as np\n",
    "import time\n",
    "\n",
    "# List operation\n",
    "lst = list(range(1000000))\n",
    "start = time.time()\n",
    "lst = [x * 2 for x in lst]\n",
    "list_time=time.time() - start\n",
    "print(\"List time:\", time.time() - start)\n",
    "\n",
    "# NumPy array operation\n",
    "arr = np.arange(1000000)\n",
    "start = time.time()\n",
    "arr = arr * 2\n",
    "arr_time=time.time() - start\n",
    "print(\"NumPy time:\", time.time() - start)\n",
    "eff=list_time//arr_time\n",
    "print(\"numpy array is faster than python list by : \", eff)"
   ]
  },
  {
   "cell_type": "code",
   "execution_count": 20,
   "id": "fb7d4374",
   "metadata": {},
   "outputs": [
    {
     "name": "stdout",
     "output_type": "stream",
     "text": [
      "Mean (List): 69\n",
      "List time: 0.0002703666687011719\n",
      "Mean (Numpy): 69.0\n",
      "List time: 0.00019550323486328125\n",
      "numpy array is faster than python list by :  1.0\n"
     ]
    }
   ],
   "source": [
    "import numpy as np\n",
    "import time\n",
    "mark_list = [100, 90, 80, 70, 60, 50, 40, 50, 100, 50]\n",
    "start=time.time()\n",
    "# Mean using regular Python list\n",
    "total = 0\n",
    "for i in range(len(mark_list)):\n",
    "    total += mark_list[i]\n",
    "\n",
    "print(\"Mean (List):\", total // len(mark_list))  # use '/' for float result\n",
    "list_time=time.time() - start\n",
    "print(\"List time:\", time.time() - start)\n",
    "\n",
    "# Mean using NumPy\n",
    "mark_np = np.array([100, 90, 80, 70, 60, 50, 40, 50, 100, 50])\n",
    "start=time.time()\n",
    "\n",
    "print(\"Mean (Numpy):\", mark_np.mean())\n",
    "arr_time=time.time() - start\n",
    "print(\"List time:\", time.time() - start)\n",
    "eff=list_time//arr_time\n",
    "\n",
    "print(\"numpy array is faster than python list by : \", eff)"
   ]
  },
  {
   "cell_type": "code",
   "execution_count": 22,
   "id": "a80b5f99",
   "metadata": {},
   "outputs": [
    {
     "name": "stdout",
     "output_type": "stream",
     "text": [
      "Mean (List): 499999\n",
      "List time: 0.10429954528808594\n",
      "Mean (Numpy): 499999.5\n",
      "List time: 0.0009922981262207031\n",
      "numpy array is faster than python list by :  107.0\n"
     ]
    }
   ],
   "source": [
    "import numpy as np\n",
    "import time\n",
    "mark_list = list(range(1000000))\n",
    "start=time.time()\n",
    "# Mean using regular Python list\n",
    "total = 0\n",
    "for i in range(len(mark_list)):\n",
    "    total += mark_list[i]\n",
    "\n",
    "print(\"Mean (List):\", total // len(mark_list))  # use '/' for float result\n",
    "list_time=time.time() - start\n",
    "print(\"List time:\", time.time() - start)\n",
    "\n",
    "# Mean using NumPy\n",
    "mark_np =  np.arange(1000000)\n",
    "start=time.time()\n",
    "\n",
    "print(\"Mean (Numpy):\", mark_np.mean())\n",
    "arr_time=time.time() - start\n",
    "print(\"List time:\", time.time() - start)\n",
    "eff=list_time//arr_time\n",
    "\n",
    "print(\"numpy array is faster than python list by : \", eff)"
   ]
  },
  {
   "cell_type": "markdown",
   "id": "185c476e",
   "metadata": {},
   "source": [
    " # 🔰 2. Types of Arrays (1D, 2D, 3D, Matrix) \n",
    "\n",
    "A NumPy array is a grid of values, all of the same data type, and is indexed by a tuple of nonnegative integers.\n",
    "\n",
    "It’s like a powerful version of a Python list, but optimized for math and performance.\n",
    "\n",
    "| Feature         | Python List  | NumPy Array           |\n",
    "| --------------- | ------------ | --------------------- |\n",
    "| Speed           | Slow         | Fast (C-backed)       |\n",
    "| Memory          | More         | Less (tightly packed) |\n",
    "| Data Types      | Mixed        | Same type only        |\n",
    "| Broadcasting    | ❌ No         | ✅ Yes                 |\n",
    "| Math Operations | Manual loops | Element-wise magic ✨  |\n",
    "\n"
   ]
  },
  {
   "cell_type": "code",
   "execution_count": 23,
   "id": "bcbd1baf",
   "metadata": {},
   "outputs": [
    {
     "name": "stdout",
     "output_type": "stream",
     "text": [
      "[[0 1 0 1 0 1 0 1]\n",
      " [1 0 1 0 1 0 1 0]\n",
      " [0 1 0 1 0 1 0 1]\n",
      " [1 0 1 0 1 0 1 0]\n",
      " [0 1 0 1 0 1 0 1]\n",
      " [1 0 1 0 1 0 1 0]\n",
      " [0 1 0 1 0 1 0 1]\n",
      " [1 0 1 0 1 0 1 0]]\n"
     ]
    }
   ],
   "source": [
    "chess = np.zeros((8,8), dtype=int)\n",
    "chess[1::2, ::2] = 1\n",
    "chess[::2, 1::2] = 1\n",
    "print(chess)\n"
   ]
  },
  {
   "cell_type": "code",
   "execution_count": 24,
   "id": "17b5fefa",
   "metadata": {},
   "outputs": [
    {
     "name": "stdout",
     "output_type": "stream",
     "text": [
      "[10 20 30]\n",
      "(3,)\n"
     ]
    }
   ],
   "source": [
    "#1-d Array\n",
    "arr1 = np.array([10, 20, 30])\n",
    "print(arr1)\n",
    "print(arr1.shape)\n"
   ]
  },
  {
   "cell_type": "code",
   "execution_count": 25,
   "id": "f42beab6",
   "metadata": {},
   "outputs": [
    {
     "name": "stdout",
     "output_type": "stream",
     "text": [
      "[[1 2 3]\n",
      " [4 5 6]]\n",
      "(2, 3)\n"
     ]
    }
   ],
   "source": [
    "#2-D Array \n",
    "arr2 = np.array([[1, 2, 3],\n",
    "                 [4, 5, 6]])\n",
    "print(arr2)\n",
    "print(arr2.shape)\n"
   ]
  },
  {
   "cell_type": "code",
   "execution_count": 26,
   "id": "bfd1820e",
   "metadata": {},
   "outputs": [
    {
     "name": "stdout",
     "output_type": "stream",
     "text": [
      "[[[1 2]\n",
      "  [3 4]]\n",
      "\n",
      " [[5 6]\n",
      "  [7 8]]]\n",
      "(2, 2, 2)\n"
     ]
    }
   ],
   "source": [
    "#3-D Array \n",
    "arr3 = np.array([\n",
    "    [[1, 2], [3, 4]],\n",
    "    [[5, 6], [7, 8]]\n",
    "])\n",
    "print(arr3)\n",
    "print(arr3.shape)\n"
   ]
  },
  {
   "cell_type": "markdown",
   "id": "c1c49bfc",
   "metadata": {},
   "source": [
    "🧮 Special Types of Arrays in NumPy\n"
   ]
  },
  {
   "cell_type": "code",
   "execution_count": 39,
   "id": "4b797437",
   "metadata": {
    "scrolled": true
   },
   "outputs": [
    {
     "name": "stdout",
     "output_type": "stream",
     "text": [
      "[[0. 0. 0.]\n",
      " [0. 0. 0.]]\n",
      "\n",
      "[[1. 1. 1.]\n",
      " [1. 1. 1.]]\n",
      "\n",
      "[[1. 0. 0. 0.]\n",
      " [0. 1. 0. 0.]\n",
      " [0. 0. 1. 0.]\n",
      " [0. 0. 0. 1.]]\n",
      "\n",
      "[[1. 0. 0.]\n",
      " [0. 1. 0.]\n",
      " [0. 0. 1.]]\n",
      "\n",
      "[[99 99 99]\n",
      " [99 99 99]]\n",
      "\n",
      "[[0.19410612 0.25095026 0.94184601]\n",
      " [0.23216813 0.16308814 0.16923426]]\n",
      "\n",
      "[[85 69 76]\n",
      " [36 90 71]\n",
      " [68 35  2]]\n"
     ]
    }
   ],
   "source": [
    "#✅ 1. np.zeros() → All Zeros\n",
    "zeros = np.zeros((2, 3))\n",
    "print(zeros)\n",
    "print()\n",
    "#✅ 2. np.ones() → All Ones\n",
    "ones=np.ones((2,3))\n",
    "print(ones)\n",
    "print()\n",
    "\n",
    "#✅ 3. np.eye() → Identity Matrix (2D)\n",
    "identity = np.eye(4)\n",
    "print(identity)\n",
    "print()\n",
    "\n",
    "#✅ 4. np.identity() → Same as eye() (only for square matrices)\n",
    "I = np.identity(3)\n",
    "print(I)\n",
    "print()\n",
    "\n",
    "#✅ 7. np.full(shape, fill_value)\n",
    "filled = np.full((2, 3), 99)\n",
    "print(filled)\n",
    "print()\n",
    "#✅ 8. np.random.rand() → Random Float Array\n",
    "randoms = np.random.rand(2, 3)\n",
    "print(randoms)\n",
    "print()\n",
    "#✅ 9. np.random.randint() → Random Integers\n",
    "rand_ints = np.random.randint(1, 100, (3, 3))\n",
    "print(rand_ints)\n",
    "\n"
   ]
  },
  {
   "cell_type": "markdown",
   "id": "8ebb543a",
   "metadata": {},
   "source": [
    "# NumPy Array Properties\n",
    "| Property     | Description                         | Code           | Output             |\n",
    "| ------------ | ----------------------------------- | -------------- | ------------------ |\n",
    "| Shape        | Tuple of dimensions                 | `arr.shape`    | `(2, 3)`           |\n",
    "| Dimensions   | Number of axes (1D, 2D, etc.)       | `arr.ndim`     | `2`                |\n",
    "| Size         | Total number of elements            | `arr.size`     | `6`                |\n",
    "| Data type    | Type of elements (int, float, etc.) | `arr.dtype`    | `int64` or `int32` |\n",
    "| Item size    | Bytes per element                   | `arr.itemsize` | `8`                |\n",
    "| Total memory | Total memory in bytes               | `arr.nbytes`   | `48` (6×8 bytes)   |\n"
   ]
  },
  {
   "cell_type": "code",
   "execution_count": 40,
   "id": "e1f26a5b",
   "metadata": {},
   "outputs": [
    {
     "name": "stdout",
     "output_type": "stream",
     "text": [
      "Shape: (2, 3)\n",
      "Dimensions: 2\n",
      "Size: 6\n",
      "Data type: int64\n",
      "Item size (bytes): 8\n",
      "Total memory (bytes): 48\n"
     ]
    }
   ],
   "source": [
    "import numpy as np\n",
    "\n",
    "arr = np.array([[1, 2, 3], [4, 5, 6]])\n",
    "print(\"Shape:\", arr.shape)\n",
    "print(\"Dimensions:\", arr.ndim)\n",
    "print(\"Size:\", arr.size)\n",
    "print(\"Data type:\", arr.dtype)\n",
    "print(\"Item size (bytes):\", arr.itemsize)\n",
    "print(\"Total memory (bytes):\", arr.nbytes)\n"
   ]
  },
  {
   "cell_type": "markdown",
   "id": "14600e1e",
   "metadata": {},
   "source": [
    "# Array Operations"
   ]
  },
  {
   "cell_type": "code",
   "execution_count": 46,
   "id": "a1c8458c",
   "metadata": {},
   "outputs": [
    {
     "name": "stdout",
     "output_type": "stream",
     "text": [
      "[10 20 30]\n",
      "[1 2 3]\n",
      "\n",
      "--- Arithmetic Operations ---\n",
      "a + b = [11 22 33]\n",
      "a - b = [ 9 18 27]\n",
      "a * b = [10 40 90]\n",
      "a / b = [10. 10. 10.]\n",
      "\n",
      "--- Scalar Operations ---\n",
      "a * 2 = [20 40 60]\n",
      "a + 5 = [15 25 35]\n",
      "\n",
      "--- Comparison Operations ---\n",
      "a > 15: [False  True  True]\n",
      "a == 20: [False  True False]\n",
      "\n",
      "--- Logical Operations ---\n",
      "logical_and: [False False  True]\n",
      "logical_or: [ True False  True]\n",
      "\n",
      "--- Aggregate Operations ---\n",
      "Array c:\n",
      " [[1 2 3]\n",
      " [4 5 6]]\n",
      "Sum: 21\n",
      "Mean: 3.5\n",
      "Max: 6\n",
      "Min: 1\n",
      "Standard Deviation: 1.707825127659933\n",
      "Row-wise sum: [ 6 15]\n",
      "Column-wise mean: [2.5 3.5 4.5]\n"
     ]
    }
   ],
   "source": [
    "import numpy as np\n",
    "\n",
    "# 1. Create arrays\n",
    "a = np.array([10, 20, 30])\n",
    "b = np.array([1, 2, 3])\n",
    "\n",
    "print (a)\n",
    "print(b)\n",
    "print(\"\\n--- Arithmetic Operations ---\")\n",
    "print(\"a + b =\", a + b)        # [11 22 33]\n",
    "print(\"a - b =\", a - b)        # [9 18 27]\n",
    "print(\"a * b =\", a * b)        # [10 40 90]\n",
    "print(\"a / b =\", a / b)        # [10. 10. 10.]\n",
    "\n",
    "print(\"\\n--- Scalar Operations ---\")\n",
    "print(\"a * 2 =\", a * 2)        # [20 40 60]\n",
    "print(\"a + 5 =\", a + 5)        # [15 25 35]\n",
    "\n",
    "print(\"\\n--- Comparison Operations ---\")\n",
    "print(\"a > 15:\", a > 15)       # [False  True  True]\n",
    "print(\"a == 20:\", a == 20)     # [False  True False]\n",
    "\n",
    "print(\"\\n--- Logical Operations ---\")\n",
    "bool1 = np.array([True, False, True])\n",
    "bool2 = np.array([False, False, True])\n",
    "print(\"logical_and:\", np.logical_and(bool1, bool2))  # [False False  True]\n",
    "print(\"logical_or:\", np.logical_or(bool1, bool2))    # [ True False  True]\n",
    "\n",
    "print(\"\\n--- Aggregate Operations ---\")\n",
    "c = np.array([[1, 2, 3], [4, 5, 6]])\n",
    "print(\"Array c:\\n\", c)\n",
    "print(\"Sum:\", c.sum())                 # 21\n",
    "print(\"Mean:\", c.mean())               # 3.5\n",
    "print(\"Max:\", c.max())                 # 6\n",
    "print(\"Min:\", c.min())                 # 1\n",
    "print(\"Standard Deviation:\", c.std()) # ~1.71\n",
    "print(\"Row-wise sum:\", c.sum(axis=1)) # [6 15]\n",
    "print(\"Column-wise mean:\", c.mean(axis=0)) # [2.5 3.5 4.5]\n"
   ]
  },
  {
   "cell_type": "markdown",
   "id": "80a4f1a7",
   "metadata": {},
   "source": [
    "# What is Indexing and Slicing?\n",
    "Just like Python lists, NumPy arrays let you:\n",
    "\n",
    "Index: Get a specific element\n",
    "\n",
    "Slice: Get a group of elements (a sub-array)\n",
    "\n"
   ]
  },
  {
   "cell_type": "markdown",
   "id": "e3f8c5f7",
   "metadata": {},
   "source": [
    "# Indexing\n"
   ]
  },
  {
   "cell_type": "code",
   "execution_count": 48,
   "id": "d56a0ab5",
   "metadata": {},
   "outputs": [
    {
     "name": "stdout",
     "output_type": "stream",
     "text": [
      "🔹 1D Array Indexing\n",
      "Array: [10 20 30 40 50]\n",
      "arr1d[0] = 10\n",
      "arr1d[-1] = 50\n",
      "arr1d[1:4] = [20 30 40]\n",
      "arr1d[::-1] = [50 40 30 20 10]\n",
      "\n",
      "🔹 2D Array Indexing\n",
      "Array:\n",
      " [[1 2 3]\n",
      " [4 5 6]\n",
      " [7 8 9]]\n",
      "arr2d[0, 0] = 1\n",
      "arr2d[2, 1] = 8\n",
      "arr2d[-1, -1] = 9\n",
      "arr2d[1, :] = [4 5 6]\n",
      "arr2d[:, 2] = [3 6 9]\n",
      "\n",
      "🔹 Negative Indexing\n",
      "50\n",
      "8\n"
     ]
    }
   ],
   "source": [
    "import numpy as np\n",
    "\n",
    "print(\"🔹 1D Array Indexing\")\n",
    "arr1d = np.array([10, 20, 30, 40, 50])\n",
    "print(\"Array:\", arr1d)\n",
    "print(\"arr1d[0] =\", arr1d[0])        # First element\n",
    "print(\"arr1d[-1] =\", arr1d[-1])      # Last element\n",
    "print(\"arr1d[1:4] =\", arr1d[1:4])    # Slice from index 1 to 3\n",
    "print(\"arr1d[::-1] =\", arr1d[::-1])  # Reversed array\n",
    "\n",
    "print(\"\\n🔹 2D Array Indexing\")\n",
    "arr2d = np.array([[1, 2, 3],\n",
    "                  [4, 5, 6],\n",
    "                  [7, 8, 9]])\n",
    "print(\"Array:\\n\", arr2d)\n",
    "print(\"arr2d[0, 0] =\", arr2d[0, 0])  # First row, first column\n",
    "print(\"arr2d[2, 1] =\", arr2d[2, 1])  # Third row, second column\n",
    "print(\"arr2d[-1, -1] =\", arr2d[-1, -1])  # Last element\n",
    "print(\"arr2d[1, :] =\", arr2d[1, :])  # Entire second row\n",
    "print(\"arr2d[:, 2] =\", arr2d[:, 2])  # All rows, third column\n",
    "\n",
    "print(\"\\n🔹 Negative Indexing\")\n",
    "print(arr1d[-1])  # 40 (last element)\n",
    "print(arr2d[-1, -2])  # 5 (second last column of last row)\n"
   ]
  },
  {
   "cell_type": "markdown",
   "id": "65119829",
   "metadata": {},
   "source": [
    "# Slicing\n",
    "array[start : stop : step]\n",
    "| Part    | Meaning                                    |\n",
    "| ------- | ------------------------------------------ |\n",
    "| `start` | Where to begin (inclusive)                 |\n",
    "| `stop`  | Where to stop (exclusive)                  |\n",
    "| `step`  | Interval between elements (default is `1`) |\n"
   ]
  },
  {
   "cell_type": "code",
   "execution_count": 49,
   "id": "93793833",
   "metadata": {},
   "outputs": [
    {
     "name": "stdout",
     "output_type": "stream",
     "text": [
      "🔹 1D Array: [10 20 30 40 50 60]\n",
      "arr1d[1:4]   = [20 30 40]\n",
      "arr1d[:3]    = [10 20 30]\n",
      "arr1d[3:]    = [40 50 60]\n",
      "arr1d[::2]   = [10 30 50]\n",
      "arr1d[::-1]  = [60 50 40 30 20 10]\n",
      "arr1d[-3:]   = [40 50 60]\n",
      "\n",
      "🔹 2D Array:\n",
      " [[ 1  2  3  4]\n",
      " [ 5  6  7  8]\n",
      " [ 9 10 11 12]\n",
      " [13 14 15 16]]\n",
      "arr2d[1, :]      = [5 6 7 8]\n",
      "arr2d[:, 2]      = [ 3  7 11 15]\n",
      "arr2d[1:3, 1:3]  =\n",
      " [[ 6  7]\n",
      " [10 11]]\n",
      "arr2d[:2, :2]    =\n",
      " [[1 2]\n",
      " [5 6]]\n",
      "arr2d[2:, 2:]    =\n",
      " [[11 12]\n",
      " [15 16]]\n",
      "arr2d[:, ::2]    =\n",
      " [[ 1  3]\n",
      " [ 5  7]\n",
      " [ 9 11]\n",
      " [13 15]]\n",
      "arr2d[::2, :]    =\n",
      " [[ 1  2  3  4]\n",
      " [ 9 10 11 12]]\n",
      "arr2d[::-1, :]   =\n",
      " [[13 14 15 16]\n",
      " [ 9 10 11 12]\n",
      " [ 5  6  7  8]\n",
      " [ 1  2  3  4]]\n",
      "arr2d[:, ::-1]   =\n",
      " [[ 4  3  2  1]\n",
      " [ 8  7  6  5]\n",
      " [12 11 10  9]\n",
      " [16 15 14 13]]\n"
     ]
    }
   ],
   "source": [
    "import numpy as np\n",
    "\n",
    "# --------------------------\n",
    "# 🔹 1D Slicing Examples\n",
    "# --------------------------\n",
    "arr1d = np.array([10, 20, 30, 40, 50, 60])\n",
    "print(\"🔹 1D Array:\", arr1d)\n",
    "\n",
    "print(\"arr1d[1:4]   =\", arr1d[1:4])     # Elements at index 1 to 3\n",
    "print(\"arr1d[:3]    =\", arr1d[:3])      # First 3 elements\n",
    "print(\"arr1d[3:]    =\", arr1d[3:])      # From index 3 to end\n",
    "print(\"arr1d[::2]   =\", arr1d[::2])     # Every 2nd element\n",
    "print(\"arr1d[::-1]  =\", arr1d[::-1])    # Reverse the array\n",
    "print(\"arr1d[-3:]   =\", arr1d[-3:])     # Last 3 elements\n",
    "\n",
    "# --------------------------\n",
    "# 🔹 2D Slicing Examples\n",
    "# --------------------------\n",
    "arr2d = np.array([[ 1,  2,  3,  4],\n",
    "                  [ 5,  6,  7,  8],\n",
    "                  [ 9, 10, 11, 12],\n",
    "                  [13, 14, 15, 16]])\n",
    "print(\"\\n🔹 2D Array:\\n\", arr2d)\n",
    "\n",
    "# Full rows or columns\n",
    "print(\"arr2d[1, :]      =\", arr2d[1, :])     # Entire 2nd row\n",
    "print(\"arr2d[:, 2]      =\", arr2d[:, 2])     # Entire 3rd column\n",
    "\n",
    "# Submatrices\n",
    "print(\"arr2d[1:3, 1:3]  =\\n\", arr2d[1:3, 1:3])  # Middle 2×2 sub-matrix\n",
    "print(\"arr2d[:2, :2]    =\\n\", arr2d[:2, :2])    # Top-left 2×2\n",
    "print(\"arr2d[2:, 2:]    =\\n\", arr2d[2:, 2:])    # Bottom-right 2×2\n",
    "\n",
    "# Fancy slicing\n",
    "print(\"arr2d[:, ::2]    =\\n\", arr2d[:, ::2])    # Every second column\n",
    "print(\"arr2d[::2, :]    =\\n\", arr2d[::2, :])    # Every second row\n",
    "\n",
    "# Reverse slicing\n",
    "print(\"arr2d[::-1, :]   =\\n\", arr2d[::-1, :])   # Rows reversed\n",
    "print(\"arr2d[:, ::-1]   =\\n\", arr2d[:, ::-1])   # Columns reversed\n"
   ]
  },
  {
   "cell_type": "markdown",
   "id": "b61779a7",
   "metadata": {},
   "source": [
    "| Code              | Description            |\n",
    "| ----------------- | ---------------------- |\n",
    "| `arr2d[1, :]`     | Row 1, all columns     |\n",
    "| `arr2d[:, 2]`     | All rows, column 2     |\n",
    "| `arr2d[1:3, 1:3]` | Middle 2×2 submatrix   |\n",
    "| `arr2d[:2, :2]`   | Top-left 2×2 block     |\n",
    "| `arr2d[2:, 2:]`   | Bottom-right 2×2 block |\n",
    "| `arr2d[:, ::2]`   | Every 2nd column       |\n",
    "| `arr2d[::2, :]`   | Every 2nd row          |\n",
    "| `arr2d[::-1, :]`  | Rows reversed          |\n",
    "| `arr2d[:, ::-1]`  | Columns reversed       |\n"
   ]
  },
  {
   "cell_type": "markdown",
   "id": "c0bb8aa3",
   "metadata": {},
   "source": [
    "# Reshaping and Flattening"
   ]
  },
  {
   "cell_type": "markdown",
   "id": "9275c6a7",
   "metadata": {},
   "source": [
    "🔹 What is Reshaping?\n",
    "Reshaping means changing the shape of an array without changing its data.\n",
    "📌 Rule: The total number of elements must stay the same\n",
    "\n"
   ]
  },
  {
   "cell_type": "code",
   "execution_count": 54,
   "id": "cd222de9",
   "metadata": {},
   "outputs": [
    {
     "name": "stdout",
     "output_type": "stream",
     "text": [
      "[ 0  1  2  3  4  5  6  7  8  9 10 11]\n",
      "\n",
      "[[ 0  1  2  3]\n",
      " [ 4  5  6  7]\n",
      " [ 8  9 10 11]]\n",
      "\n",
      "[[ 0  1  2]\n",
      " [ 3  4  5]\n",
      " [ 6  7  8]\n",
      " [ 9 10 11]]\n",
      "\n",
      "[[[ 0  1  2]\n",
      "  [ 3  4  5]]\n",
      "\n",
      " [[ 6  7  8]\n",
      "  [ 9 10 11]]]\n",
      "\n",
      "\n",
      "[[ 0  1  2  3  4  5]\n",
      " [ 6  7  8  9 10 11]]\n"
     ]
    }
   ],
   "source": [
    "a = np.arange(12)  # array from 0 to 11\n",
    "print(a)\n",
    "print()\n",
    "print(a.reshape(3, 4)) # 3 rows, 4 cols\n",
    "print()\n",
    "print(a.reshape(4, 3))    # 4 rows, 3 cols\n",
    "print()\n",
    "print(a.reshape(2, 2, 3)) # 3D: 2 blocks of 2×3\n",
    "print()\n",
    " #📌 -1 is a smart shortcut to auto-calculate dimension:\n",
    "print()\n",
    "print(a.reshape(2, -1))# Automatically gives shape (2, 6)\n"
   ]
  },
  {
   "cell_type": "markdown",
   "id": "98fe35a6",
   "metadata": {},
   "source": [
    "🔸 What is Flattening?\n",
    "Flattening means converting any multi-dimensional array into a 1D array (a straight line).\n",
    "\n",
    "| Method        | Description                            |\n",
    "| ------------- | -------------------------------------- |\n",
    "| `flatten()`   | Returns a **copy** of flattened array  |\n",
    "| `ravel()`     | Returns a **view** (faster but linked) |\n",
    "| `reshape(-1)` | Same as flattening                     |\n",
    "\n"
   ]
  },
  {
   "cell_type": "code",
   "execution_count": 60,
   "id": "d1e2de87",
   "metadata": {},
   "outputs": [
    {
     "name": "stdout",
     "output_type": "stream",
     "text": [
      "[[1]\n",
      " [2]\n",
      " [3]\n",
      " [4]\n",
      " [5]\n",
      " [6]]\n",
      "[1 2 3 4 5 6]\n"
     ]
    }
   ],
   "source": [
    "arr2d = np.array([[1, 2, 3],\n",
    "                  [4, 5, 6]])\n",
    "print(arr2d.reshape(6,1))\n",
    "\n",
    "flat = arr2d.flatten()\n",
    "print(flat)  # [1 2 3 4 5 6]\n"
   ]
  },
  {
   "cell_type": "markdown",
   "id": "9739a50c",
   "metadata": {},
   "source": [
    "# Array Modification"
   ]
  },
  {
   "cell_type": "code",
   "execution_count": 62,
   "id": "14d40d89",
   "metadata": {},
   "outputs": [
    {
     "name": "stdout",
     "output_type": "stream",
     "text": [
      "🔹 ORIGINAL ARRAY\n",
      "Original: [10 20 30 40 50]\n",
      "\n",
      "🔹 MODIFYING ELEMENTS\n",
      "After modifying: [10 77 88 40 50]\n",
      "\n",
      "🔹 APPENDING & INSERTING\n",
      "Appended: [10 77 88 40 50 60 70]\n",
      "Inserted: [10 15 77 88 40 50]\n",
      "\n",
      "🔹 DELETING ELEMENTS\n",
      "Deleted index 2: [10 77 40 50]\n",
      "\n",
      "🔹 CONDITIONAL MODIFICATION\n",
      "Replace >15 with 999: [  5  10  15 999 999]\n"
     ]
    }
   ],
   "source": [
    "import numpy as np\n",
    "\n",
    "print(\"🔹 ORIGINAL ARRAY\")\n",
    "arr = np.array([10, 20, 30, 40, 50])\n",
    "print(\"Original:\", arr)\n",
    "\n",
    "# -----------------------------\n",
    "# ✅ Modify values directly\n",
    "# -----------------------------\n",
    "print(\"\\n🔹 MODIFYING ELEMENTS\")\n",
    "arr[2] = 99\n",
    "arr[1:3] = [77, 88]\n",
    "print(\"After modifying:\", arr)\n",
    "\n",
    "# -----------------------------\n",
    "# ✅ Append and Insert\n",
    "# -----------------------------\n",
    "print(\"\\n🔹 APPENDING & INSERTING\")\n",
    "appended = np.append(arr, [60, 70])\n",
    "inserted = np.insert(arr, 1, 15)  # insert 15 at index 1\n",
    "print(\"Appended:\", appended)\n",
    "print(\"Inserted:\", inserted)\n",
    "\n",
    "# -----------------------------\n",
    "# ✅ Delete elements\n",
    "# -----------------------------\n",
    "print(\"\\n🔹 DELETING ELEMENTS\")\n",
    "deleted = np.delete(arr, 2)  # remove element at index 2\n",
    "print(\"Deleted index 2:\", deleted)\n",
    "\n",
    "\n",
    "# -----------------------------\n",
    "# ✅ Conditional Replacement\n",
    "# -----------------------------\n",
    "print(\"\\n🔹 CONDITIONAL MODIFICATION\")\n",
    "arr3 = np.array([5, 10, 15, 20, 25])\n",
    "arr3[arr3 > 15] = 999\n",
    "print(\"Replace >15 with 999:\", arr3)\n"
   ]
  },
  {
   "cell_type": "markdown",
   "id": "b6767a01",
   "metadata": {},
   "source": [
    "🔹 Broadcasting & Vectorization in Python (NumPy)\n",
    "✅ What is Vectorization?\n",
    "Vectorization means performing operations on entire arrays (or vectors) without using explicit loops.\n",
    "\n",
    "✅ It's faster, more readable, and efficient.\n",
    "✅ What is Broadcasting?\n",
    "Broadcasting is how NumPy automatically matches arrays of different shapes during arithmetic operations.\n",
    "\n",
    "It \"broadcasts\" the smaller array so its shape matches the larger one.\n",
    "\n",
    "🧠 Think of it like this:\n",
    "You have a matrix (2D) and want to add a vector (1D) to each row — NumPy broadcasts the vector across the rows.\n",
    "\n",
    "You don’t need a loop — NumPy does the expansion internally and efficiently.\n",
    "\n",
    "\n",
    "| Concept           | Description                           | Use Case                    |\n",
    "| ----------------- | ------------------------------------- | --------------------------- |\n",
    "| **Vectorization** | Replacing loops with array operations | Fast math on whole datasets |\n",
    "| **Broadcasting**  | Combining arrays of different shapes  | Add a 1D array to 2D matrix |\n"
   ]
  },
  {
   "cell_type": "code",
   "execution_count": 2,
   "id": "3d7bf2d1",
   "metadata": {},
   "outputs": [
    {
     "name": "stdout",
     "output_type": "stream",
     "text": [
      "Column Means: [40. 50. 60.]\n",
      "\n",
      "Original Data:\n",
      " [[10 20 30]\n",
      " [40 50 60]\n",
      " [70 80 90]]\n",
      "\n",
      "Normalized Data (mean-centered):\n",
      " [[-30. -30. -30.]\n",
      " [  0.   0.   0.]\n",
      " [ 30.  30.  30.]]\n"
     ]
    }
   ],
   "source": [
    "import numpy as np\n",
    "\n",
    "# 2D array: each row is a sample, each column a feature\n",
    "data = np.array([\n",
    "    [10, 20, 30],\n",
    "    [40, 50, 60],\n",
    "    [70, 80, 90]\n",
    "])\n",
    "\n",
    "# 1D array: mean values to subtract from each column (feature-wise normalization)\n",
    "column_means = np.mean(data, axis=0)  # shape: (3,)\n",
    "print(\"Column Means:\", column_means)\n",
    "\n",
    "# Broadcasting: subtract the mean of each column from all rows\n",
    "normalized = data - column_means  # Vectorized + Broadcasting\n",
    "\n",
    "print(\"\\nOriginal Data:\\n\", data)\n",
    "print(\"\\nNormalized Data (mean-centered):\\n\", normalized)\n"
   ]
  },
  {
   "cell_type": "markdown",
   "id": "71b7fe98",
   "metadata": {},
   "source": [
    "✅ Practice Questions\n",
    "Q1. Create a 2D NumPy array and subtract the row-wise mean (Hint: axis=1).\n",
    "Q2. Create two arrays:\n",
    "A = np.array([[1, 2, 3], [4, 5, 6]])\n",
    "\n",
    "B = np.array([10, 20, 30])\n",
    "\n",
    "Add B to A using broadcasting.\n",
    "\n"
   ]
  },
  {
   "cell_type": "markdown",
   "id": "7db157af",
   "metadata": {},
   "source": [
    "#  Data Cleaning in Python using NumPy\n"
   ]
  },
  {
   "cell_type": "markdown",
   "id": "21f06a07",
   "metadata": {},
   "source": [
    "✅ Why Data Cleaning?\n",
    "Real-world data is:\n",
    "\n",
    "Messy\n",
    "\n",
    "Incomplete (missing values)\n",
    "\n",
    "Inconsistent (wrong types, impossible values)\n",
    "\n",
    "Noisy (outliers)\n",
    "\n",
    "Cleaning it ensures:\n",
    "\n",
    "Better model performance\n",
    "\n",
    "Accurate insights\n",
    "\n",
    "No runtime errors"
   ]
  },
  {
   "cell_type": "markdown",
   "id": "f908d7ca",
   "metadata": {},
   "source": [
    "| Task                    | NumPy Function                                            |\n",
    "| ----------------------- | --------------------------------------------------------- |\n",
    "| Handling missing values | `np.isnan()`, `np.nan`, `np.nanmean()`, `np.nan_to_num()` |\n",
    "| Replacing values        | `np.where()`, slicing                                     |\n",
    "| Type conversion         | `.astype()`                                               |\n",
    "| Removing outliers       | Based on z-scores or thresholds                           |\n",
    "| Standardization         | Mean centering, scaling                                   |\n"
   ]
  },
  {
   "cell_type": "code",
   "execution_count": 3,
   "id": "ef9dd226",
   "metadata": {},
   "outputs": [
    {
     "name": "stdout",
     "output_type": "stream",
     "text": [
      "🔹 Original Data:\n",
      " [[72.5 80.   nan]\n",
      " [68.   nan 70. ]\n",
      " [75.  85.5 90. ]\n",
      " [ nan 60.  65. ]]\n",
      "\n",
      "🔍 Missing Values (True = NaN):\n",
      " [[False False  True]\n",
      " [False  True False]\n",
      " [False False False]\n",
      " [ True False False]]\n",
      "\n",
      "📊 Column-wise Means (ignoring NaNs): [71.83333333 75.16666667 75.        ]\n",
      "\n",
      "✅ Data After Filling Missing Values:\n",
      " [[72.5        80.         75.        ]\n",
      " [68.         75.16666667 70.        ]\n",
      " [75.         85.5        90.        ]\n",
      " [71.83333333 60.         65.        ]]\n",
      "\n",
      "🔁 Data Type After Conversion: float32\n",
      "\n",
      "🏁 Final Cleaned Dataset:\n",
      " [[72.5      80.       75.      ]\n",
      " [68.       75.166664 70.      ]\n",
      " [75.       85.5      90.      ]\n",
      " [71.833336 60.       65.      ]]\n"
     ]
    }
   ],
   "source": [
    "import numpy as np\n",
    "\n",
    "# -------------------------------\n",
    "# 🔹 Step 1: Create Raw Data with NaNs\n",
    "# -------------------------------\n",
    "\n",
    "# Simulated dataset with missing values (np.nan)\n",
    "data = np.array([\n",
    "    [72.5, 80.0, np.nan],\n",
    "    [68.0, np.nan, 70.0],\n",
    "    [75.0, 85.5, 90.0],\n",
    "    [np.nan, 60.0, 65.0]\n",
    "])\n",
    "\n",
    "print(\"🔹 Original Data:\\n\", data)\n",
    "\n",
    "# -------------------------------\n",
    "# 🔍 Step 2: Detect Missing Values\n",
    "# -------------------------------\n",
    "\n",
    "# Identify where NaNs are present\n",
    "nan_mask = np.isnan(data)\n",
    "print(\"\\n🔍 Missing Values (True = NaN):\\n\", nan_mask)\n",
    "\n",
    "# -------------------------------\n",
    "# 📊 Step 3: Impute Missing Values with Column Mean\n",
    "# -------------------------------\n",
    "\n",
    "# Compute mean of each column ignoring NaNs\n",
    "column_means = np.nanmean(data, axis=0)\n",
    "print(\"\\n📊 Column-wise Means (ignoring NaNs):\", column_means)\n",
    "\n",
    "# Replace NaNs with respective column mean\n",
    "# np.where(condition, value_if_true, value_if_false)\n",
    "# Apply column-wise mean wherever np.isnan() is True\n",
    "cleaned_data = np.where(np.isnan(data), column_means, data)\n",
    "print(\"\\n✅ Data After Filling Missing Values:\\n\", cleaned_data)\n",
    "\n",
    "# -------------------------------\n",
    "# 🔁 Step 4: Type Conversion (optional)\n",
    "# -------------------------------\n",
    "\n",
    "# Convert data type to float32 for memory efficiency\n",
    "cleaned_data = cleaned_data.astype('float32')\n",
    "print(\"\\n🔁 Data Type After Conversion:\", cleaned_data.dtype)\n",
    "\n",
    "# -------------------------------\n",
    "# 🏁 Final Cleaned Output\n",
    "# -------------------------------\n",
    "\n",
    "print(\"\\n🏁 Final Cleaned Dataset:\\n\", cleaned_data)\n"
   ]
  },
  {
   "cell_type": "markdown",
   "id": "a57ff7f1",
   "metadata": {},
   "source": [
    "| Step  | Description                                                              |\n",
    "| ----- | ------------------------------------------------------------------------ |\n",
    "| **1** | Creates a 2D NumPy array with some missing values (`np.nan`)             |\n",
    "| **2** | Detects where missing values are using `np.isnan()`                      |\n",
    "| **3** | Calculates **column-wise mean** with `np.nanmean()` and fills the NaNs   |\n",
    "| **4** | Converts the data to `float32` for cleaner format or memory optimization |\n",
    "| **5** | Displays the final cleaned data                                          |\n"
   ]
  },
  {
   "cell_type": "code",
   "execution_count": null,
   "id": "0ae09659",
   "metadata": {},
   "outputs": [],
   "source": [
    "\n"
   ]
  },
  {
   "cell_type": "code",
   "execution_count": null,
   "id": "901e8c08",
   "metadata": {},
   "outputs": [],
   "source": []
  },
  {
   "cell_type": "code",
   "execution_count": null,
   "id": "e3971da9",
   "metadata": {},
   "outputs": [],
   "source": []
  }
 ],
 "metadata": {
  "kernelspec": {
   "display_name": "Python 3 (ipykernel)",
   "language": "python",
   "name": "python3"
  },
  "language_info": {
   "codemirror_mode": {
    "name": "ipython",
    "version": 3
   },
   "file_extension": ".py",
   "mimetype": "text/x-python",
   "name": "python",
   "nbconvert_exporter": "python",
   "pygments_lexer": "ipython3",
   "version": "3.12.3"
  }
 },
 "nbformat": 4,
 "nbformat_minor": 5
}
