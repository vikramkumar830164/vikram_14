{
  "cells": [
    {
      "cell_type": "markdown",
      "id": "1308622c",
      "metadata": {
        "id": "1308622c"
      },
      "source": [
        "\n",
        "# 📘 Python Programming Complete Beginner's Guide\n",
        "\n",
        "This notebook covers Python programming from basics, designed for absolute beginners.  \n",
        "You'll learn **theory**, see **step-by-step code examples**, solve **practice questions**, and work on **mini projects**.\n"
      ]
    },
    {
      "cell_type": "markdown",
      "id": "ef033740",
      "metadata": {
        "id": "ef033740"
      },
      "source": [
        "\n",
        "##  What is Programming?\n",
        "### ➤ Why is Programming Needed?\n",
        "Programming allows us to communicate with computers and tell them what tasks to perform. It helps us:\n",
        "- Solve complex problems efficiently\n",
        "- Automate repetitive tasks\n",
        "- Develop apps, games, websites, and AI models\n",
        "\n",
        "### ➤ What is Programming?\n",
        "Programming is writing a sequence of instructions (code) for the computer to execute.\n",
        "\n",
        "### ✅ Practice Questions:\n",
        "1. Why do we need to learn programming?\n",
        "2. Give one example of a task that can be automated using programming.\n"
      ]
    },
    {
      "cell_type": "markdown",
      "id": "1d086a99",
      "metadata": {
        "id": "1d086a99"
      },
      "source": [
        "\n",
        "##  What is Python Programming?\n",
        "### ➤ Why Python?\n",
        "- Simple and beginner-friendly syntax\n",
        "- Used for various tasks: web development, data analysis, AI/ML, automation\n",
        "- Huge library support\n",
        "\n",
        "### ➤ What is Python?\n",
        "Python is a high-level, interpreted programming language known for its readability and versatility.\n",
        "\n",
        "### ✅ Practice Questions:\n",
        "1. Who developed Python and in which year?\n",
        "2. Why is Python popular among beginners?\n"
      ]
    },
    {
      "cell_type": "markdown",
      "source": [
        "#🟢 Your First Program  in Python\n",
        "\n"
      ],
      "metadata": {
        "id": "2bFnPsW0atHn"
      },
      "id": "2bFnPsW0atHn"
    },
    {
      "cell_type": "code",
      "source": [
        "print(\"Hello, World!\")\n"
      ],
      "metadata": {
        "colab": {
          "base_uri": "https://localhost:8080/"
        },
        "id": "n7Qm99bta1Dv",
        "outputId": "44cbf22d-2e4d-4bb0-9e0d-edf066ba9eb1"
      },
      "id": "n7Qm99bta1Dv",
      "execution_count": 35,
      "outputs": [
        {
          "output_type": "stream",
          "name": "stdout",
          "text": [
            "Hello, World!\n"
          ]
        }
      ]
    },
    {
      "cell_type": "markdown",
      "source": [
        "| Part              | Description                                                                  |\n",
        "| ----------------- | ---------------------------------------------------------------------------- |\n",
        "| `print`           | A **function** to send output to the screen                                  |\n",
        "| `()`              | **Parentheses** used to call the function                                    |\n",
        "| `\"Hello, World!\"` | A **string** (text) inside quotes, which is the **argument** to the function |\n",
        "\n"
      ],
      "metadata": {
        "id": "JkB1ipaHa4dv"
      },
      "id": "JkB1ipaHa4dv"
    },
    {
      "cell_type": "markdown",
      "source": [
        "▶️ What happens when you run it?\n",
        "Python executes the print() function, and sends the string \"Hello, World!\" to the console/output window."
      ],
      "metadata": {
        "id": "RbBJApVabAXf"
      },
      "id": "RbBJApVabAXf"
    },
    {
      "cell_type": "code",
      "source": [
        "print(\"Welcome to Python!\")\n",
        "print(42)\n",
        "name = \"Alice\"\n",
        "print(name)  # ➝ Alice\n",
        "print(\"Name:\", name, \"Age:\", 21)\n"
      ],
      "metadata": {
        "colab": {
          "base_uri": "https://localhost:8080/"
        },
        "id": "sU_LOzNnbHBv",
        "outputId": "e649f142-19fb-4eed-d7cd-58b9a8a7e98c"
      },
      "id": "sU_LOzNnbHBv",
      "execution_count": 36,
      "outputs": [
        {
          "output_type": "stream",
          "name": "stdout",
          "text": [
            "Welcome to Python!\n",
            "42\n",
            "Alice\n",
            "Name: Alice Age: 21\n"
          ]
        }
      ]
    },
    {
      "cell_type": "markdown",
      "id": "02cb4535",
      "metadata": {
        "id": "02cb4535"
      },
      "source": [
        "\n",
        "## Variables & Data Types in Python\n",
        "### ➤ Why Needed?\n",
        "Variables are used to store and manipulate data in a program.\n",
        "\n",
        "### ➤ What are Variables?\n",
        "Variables are like containers to store values.\n",
        "\n",
        "### ➤ Data Types:\n",
        "| Type  | Example | Description         |\n",
        "|-------|---------|---------------------|\n",
        "| int   | 10      | Whole numbers        |\n",
        "| float | 3.14    | Decimal numbers      |\n",
        "| str   | \"Hello\" | Text data (strings)  |\n",
        "| bool  | True    | Boolean (True/False) |\n",
        "\n",
        "### ➤ Example with Explanation:\n"
      ]
    },
    {
      "cell_type": "code",
      "execution_count": null,
      "id": "1aa7efef",
      "metadata": {
        "colab": {
          "base_uri": "https://localhost:8080/"
        },
        "id": "1aa7efef",
        "outputId": "d67b98ff-7eac-4b01-c444-8187a9180b47"
      },
      "outputs": [
        {
          "output_type": "stream",
          "name": "stdout",
          "text": [
            "Name: Alice\n",
            "Age: 25\n",
            "Height: 5.4\n",
            "Is Student: True\n"
          ]
        }
      ],
      "source": [
        "\n",
        "# Example of variables and data types\n",
        "name = \"Alice\"  # string\n",
        "age = 25        # integer\n",
        "height = 5.4    # float\n",
        "is_student = True  # boolean\n",
        "\n",
        "# Printing all variables with their types\n",
        "print(\"Name:\", name)  # String variable\n",
        "print(\"Age:\", age)    # Integer variable\n",
        "print(\"Height:\", height)  # Float variable\n",
        "print(\"Is Student:\", is_student)  # Boolean variable\n"
      ]
    },
    {
      "cell_type": "markdown",
      "id": "fc4e8ded",
      "metadata": {
        "id": "fc4e8ded"
      },
      "source": [
        "\n",
        "### ✅ Practice Questions:\n",
        "1. Define a variable storing your favorite color and print it.\n",
        "2. Create a variable storing your age and display its data type.\n"
      ]
    },
    {
      "cell_type": "markdown",
      "source": [
        "# Operators in Python\n",
        "Python supports various types of operators to perform operations on variables and values.\n"
      ],
      "metadata": {
        "id": "HzH4UWzBfdDx"
      },
      "id": "HzH4UWzBfdDx"
    },
    {
      "cell_type": "code",
      "source": [
        "# Arithmetic Operators\n",
        "a = 10\n",
        "b = 3\n",
        "print(\"Addition:\", a + b)\n",
        "print(\"Subtraction:\", a - b)\n",
        "print(\"Multiplication:\", a * b)\n",
        "print(\"Division:\", a / b)\n",
        "print(\"Modulus:\", a % b)\n",
        "print(\"Exponentiation:\", a ** b)\n",
        "print(\"Floor Division:\", a // b)"
      ],
      "metadata": {
        "colab": {
          "base_uri": "https://localhost:8080/"
        },
        "id": "M9a6x3zHgO-T",
        "outputId": "133d3ac5-ec4f-4a67-fe45-673e62b88376"
      },
      "id": "M9a6x3zHgO-T",
      "execution_count": null,
      "outputs": [
        {
          "output_type": "stream",
          "name": "stdout",
          "text": [
            "Addition: 13\n",
            "Subtraction: 7\n",
            "Multiplication: 30\n",
            "Division: 3.3333333333333335\n",
            "Modulus: 1\n",
            "Exponentiation: 1000\n",
            "Floor Division: 3\n"
          ]
        }
      ]
    },
    {
      "cell_type": "code",
      "source": [
        "# Comparison Operators\n",
        "print(\"Equal:\", a == b)\n",
        "print(\"Not Equal:\", a != b)\n",
        "print(\"Greater Than:\", a > b)\n",
        "print(\"Less Than:\", a < b)\n",
        "print(\"Greater or Equal:\", a >= b)\n",
        "print(\"Less or Equal:\", a <= b)"
      ],
      "metadata": {
        "colab": {
          "base_uri": "https://localhost:8080/"
        },
        "id": "rVdGym1kgQSy",
        "outputId": "8dc5603c-ab2e-4ce1-861b-529aeb5c7d03"
      },
      "id": "rVdGym1kgQSy",
      "execution_count": null,
      "outputs": [
        {
          "output_type": "stream",
          "name": "stdout",
          "text": [
            "Equal: False\n",
            "Not Equal: True\n",
            "Greater Than: True\n",
            "Less Than: False\n",
            "Greater or Equal: True\n",
            "Less or Equal: False\n"
          ]
        }
      ]
    },
    {
      "cell_type": "code",
      "source": [
        "# Logical Operators\n",
        "x = True\n",
        "y = False\n",
        "print(\"AND:\", x and y)\n",
        "print(\"OR:\", x or y)\n",
        "print(\"NOT:\", not x)"
      ],
      "metadata": {
        "colab": {
          "base_uri": "https://localhost:8080/"
        },
        "id": "-06fVVWagRC-",
        "outputId": "8db1978f-aa18-4e36-bd3e-04cbf08e8513"
      },
      "id": "-06fVVWagRC-",
      "execution_count": null,
      "outputs": [
        {
          "output_type": "stream",
          "name": "stdout",
          "text": [
            "AND: False\n",
            "OR: True\n",
            "NOT: False\n"
          ]
        }
      ]
    },
    {
      "cell_type": "markdown",
      "id": "6d9a3d5d",
      "metadata": {
        "id": "6d9a3d5d"
      },
      "source": [
        "\n",
        "### 🎯 Mini Project: Basic Calculator\n",
        "Create a simple calculator that takes two numbers from the user and prints their sum, difference, product, and quotient.\n"
      ]
    },
    {
      "cell_type": "code",
      "execution_count": null,
      "id": "d8104e99",
      "metadata": {
        "colab": {
          "base_uri": "https://localhost:8080/"
        },
        "id": "d8104e99",
        "outputId": "0742a704-3278-4cda-ed2c-613c783d5c1f"
      },
      "outputs": [
        {
          "output_type": "stream",
          "name": "stdout",
          "text": [
            "Enter first number: 2\n",
            "Enter second number: 3\n",
            "Sum: 5.0\n",
            "Difference: -1.0\n",
            "Product: 6.0\n",
            "Quotient: 0.6666666666666666\n"
          ]
        }
      ],
      "source": [
        "\n",
        "# Basic Calculator Mini Project\n",
        "num1 = float(input(\"Enter first number: \"))\n",
        "num2 = float(input(\"Enter second number: \"))\n",
        "\n",
        "print(\"Sum:\", num1 + num2)\n",
        "print(\"Difference:\", num1 - num2)\n",
        "print(\"Product:\", num1 * num2)\n",
        "if num2 != 0:\n",
        "    print(\"Quotient:\", num1 / num2)\n",
        "else:\n",
        "    print(\"Cannot divide by zero.\")\n"
      ]
    },
    {
      "cell_type": "markdown",
      "id": "933f076c",
      "metadata": {
        "id": "933f076c"
      },
      "source": [
        "\n",
        "## Strings & Basic String Functions\n",
        "### ➤ Why Needed?\n",
        "To work with text and manipulate string data.\n",
        "\n",
        "### ➤ Example with Explanation:\n"
      ]
    },
    {
      "cell_type": "code",
      "execution_count": null,
      "id": "5ab9d422",
      "metadata": {
        "colab": {
          "base_uri": "https://localhost:8080/"
        },
        "id": "5ab9d422",
        "outputId": "5cb3f09d-1e90-4b65-b61c-a9728d3216ef"
      },
      "outputs": [
        {
          "output_type": "stream",
          "name": "stdout",
          "text": [
            "Original Message: Hello, Python!\n",
            "Uppercase: HELLO, PYTHON!\n",
            "Lowercase: hello, python!\n",
            "Length: 14\n",
            "Replace 'Python' with 'World': Hello, World!\n"
          ]
        }
      ],
      "source": [
        "\n",
        "# String Example\n",
        "message = \"Hello, Python!\"\n",
        "print(\"Original Message:\", message)\n",
        "\n",
        "# Convert to Uppercase\n",
        "print(\"Uppercase:\", message.upper())\n",
        "\n",
        "# Convert to Lowercase\n",
        "print(\"Lowercase:\", message.lower())\n",
        "\n",
        "# Get Length of String\n",
        "print(\"Length:\", len(message))\n",
        "\n",
        "# Replace a word\n",
        "print(\"Replace 'Python' with 'World':\", message.replace(\"Python\", \"World\"))\n"
      ]
    },
    {
      "cell_type": "markdown",
      "source": [
        "## Strings and Their Immutability"
      ],
      "metadata": {
        "id": "dMEuZ4XshFRT"
      },
      "id": "dMEuZ4XshFRT"
    },
    {
      "cell_type": "code",
      "source": [
        "# Strings are immutable means cannot be changed\n",
        "s = \"hello\"\n",
        "try:\n",
        "    s[0] = 'H'\n",
        "except TypeError as e:\n",
        "    print(\"Error:\", e)\n",
        "print(\"Strings cannot be changed once created.\")"
      ],
      "metadata": {
        "colab": {
          "base_uri": "https://localhost:8080/"
        },
        "id": "SElQ9tQPhHff",
        "outputId": "06999872-68cf-426f-9714-9086a521dbf1"
      },
      "id": "SElQ9tQPhHff",
      "execution_count": 38,
      "outputs": [
        {
          "output_type": "stream",
          "name": "stdout",
          "text": [
            "Error: 'str' object does not support item assignment\n",
            "Strings cannot be changed once created.\n"
          ]
        }
      ]
    },
    {
      "cell_type": "markdown",
      "id": "ac09d8b9",
      "metadata": {
        "id": "ac09d8b9"
      },
      "source": [
        "\n",
        "### ✅ Practice Questions:\n",
        "1. Create a string variable with your name and print it in uppercase.\n",
        "2. Find the length of the string \"Learning Python is fun!\".\n"
      ]
    },
    {
      "cell_type": "markdown",
      "source": [
        "#Python Data Structures:\n"
      ],
      "metadata": {
        "id": "ZJ6ce11l9EBJ"
      },
      "id": "ZJ6ce11l9EBJ"
    },
    {
      "cell_type": "markdown",
      "source": [
        "##List\n",
        " list is an ordered, mutable collection of items.\n",
        "\n",
        "It can store multiple items in a single variable.\n",
        "\n",
        "Items can be of different data types — integers, strings, floats, etc.\n",
        "\n",
        "🔄 Is List Mutable?\n",
        "✅ Yes, lists are mutable – meaning their contents (elements) can be changed, updated, removed, or extended after creation.\n",
        "\n"
      ],
      "metadata": {
        "id": "2QWaTkky9Hc8"
      },
      "id": "2QWaTkky9Hc8"
    },
    {
      "cell_type": "code",
      "source": [
        "fruits = [\"apple\", \"banana\", \"cherry\"]\n",
        "fruits[1] = \"orange\"  # modifies item at index 1\n",
        "print(fruits)         # ['apple', 'orange', 'cherry']\n"
      ],
      "metadata": {
        "colab": {
          "base_uri": "https://localhost:8080/"
        },
        "id": "iFrff0xs9UD_",
        "outputId": "e85ad852-eddc-455e-81b9-664a0b5c920e"
      },
      "id": "iFrff0xs9UD_",
      "execution_count": null,
      "outputs": [
        {
          "output_type": "stream",
          "name": "stdout",
          "text": [
            "['apple', 'orange', 'cherry']\n"
          ]
        }
      ]
    },
    {
      "cell_type": "markdown",
      "source": [
        "| Method               | Description                                | Example                            |\n",
        "| -------------------- | ------------------------------------------ | ---------------------------------- |\n",
        "| `append()`           | Adds item to the end of list               | `fruits.append(\"grape\")`           |\n",
        "| `insert(index, val)` | Inserts item at specific position          | `fruits.insert(1, \"kiwi\")`         |\n",
        "| `extend()`           | Adds multiple elements                     | `fruits.extend([\"mango\", \"pear\"])` |\n",
        "| `remove(value)`      | Removes first occurrence of value          | `fruits.remove(\"banana\")`          |\n",
        "| `pop(index)`         | Removes item at index (or last by default) | `fruits.pop()` or `fruits.pop(1)`  |\n",
        "| `clear()`            | Empties the list                           | `fruits.clear()`                   |\n",
        "| `index(value)`       | Returns index of first match               | `fruits.index(\"cherry\")`           |\n",
        "| `count(value)`       | Counts occurrences of value                | `fruits.count(\"apple\")`            |\n",
        "| `sort()`             | Sorts the list (in place)                  | `numbers.sort()`                   |\n",
        "| `reverse()`          | Reverses the list                          | `fruits.reverse()`                 |\n",
        "| `copy()`             | Returns a shallow copy of list             | `new_list = fruits.copy()`         |\n",
        "| `len()`              | Returns number of items                    | `len(fruits)`                      |\n"
      ],
      "metadata": {
        "id": "egI7qaRE9bcl"
      },
      "id": "egI7qaRE9bcl"
    },
    {
      "cell_type": "code",
      "source": [
        "numbers = [10, 5, 8, 2]\n",
        "\n",
        "numbers.append(20)\n",
        "numbers.insert(1, 15)\n",
        "numbers.sort()\n",
        "numbers.reverse()\n",
        "print(numbers)  # [20, 15, 10, 8, 5, 2]\n"
      ],
      "metadata": {
        "colab": {
          "base_uri": "https://localhost:8080/"
        },
        "id": "ReOUY_0I9b5u",
        "outputId": "9b55e9f8-36e6-49ff-9bf7-dc4b9f5a0199"
      },
      "id": "ReOUY_0I9b5u",
      "execution_count": null,
      "outputs": [
        {
          "output_type": "stream",
          "name": "stdout",
          "text": [
            "[20, 15, 10, 8, 5, 2]\n"
          ]
        }
      ]
    },
    {
      "cell_type": "markdown",
      "source": [
        "#Set\n",
        "A set is an unordered, mutable, and unindexed collection of unique elements.\n",
        "It's similar to sets in mathematics."
      ],
      "metadata": {
        "id": "0M39J1SqGaYS"
      },
      "id": "0M39J1SqGaYS"
    },
    {
      "cell_type": "code",
      "source": [
        "my_set = {1, 2, 3, 4,3}\n",
        "print(my_set)\n",
        "my_set = {\"apple\", \"banana\", \"cherry\"}\n",
        "print(my_set)  # Output may be in any order\n",
        "\n"
      ],
      "metadata": {
        "colab": {
          "base_uri": "https://localhost:8080/"
        },
        "id": "JTJtyM34Gi1h",
        "outputId": "140fb237-0869-4494-fbaa-5d146db0f5cb"
      },
      "id": "JTJtyM34Gi1h",
      "execution_count": 20,
      "outputs": [
        {
          "output_type": "stream",
          "name": "stdout",
          "text": [
            "{1, 2, 3, 4}\n",
            "{'cherry', 'banana', 'apple'}\n"
          ]
        }
      ]
    },
    {
      "cell_type": "markdown",
      "source": [
        "| Property                       | Description                                      |\n",
        "| ------------------------------ | ------------------------------------------------ |\n",
        "| **Unordered**                  | No guaranteed order of elements                  |\n",
        "| **No duplicates**              | Duplicate values are automatically removed       |\n",
        "| **Mutable**                    | You can add/remove elements after creation       |\n",
        "| **Unindexed**                  | You can't access items by index (no `my_set[0]`) |\n",
        "| **Can hold any hashable data** | Numbers, strings, tuples (not lists/dicts)       |\n"
      ],
      "metadata": {
        "id": "kDbct9q7Guox"
      },
      "id": "kDbct9q7Guox"
    },
    {
      "cell_type": "markdown",
      "source": [
        "## Basic Set Operation"
      ],
      "metadata": {
        "id": "QpLWygxUHOh5"
      },
      "id": "QpLWygxUHOh5"
    },
    {
      "cell_type": "code",
      "source": [
        "# Create a set\n",
        "colors = {\"red\", \"green\", \"blue\"}\n",
        "\n",
        "# Add element\n",
        "colors.add(\"yellow\")\n",
        "\n",
        "# Remove element safely\n",
        "colors.discard(\"green\")\n",
        "\n",
        "# Set operations\n",
        "primary = {\"red\", \"blue\"}\n",
        "secondary = {\"blue\", \"purple\"}\n",
        "\n",
        "print(\"Union:\", primary.union(secondary))\n",
        "print(\"Intersection:\", primary & secondary)\n",
        "print(\"Difference:\", primary - secondary)\n",
        "\n",
        "# Check membership\n",
        "print(\"red\" in colors)     # True\n",
        "print(\"green\" in colors)   # False\n"
      ],
      "metadata": {
        "colab": {
          "base_uri": "https://localhost:8080/"
        },
        "id": "jcSwVZR3GwFh",
        "outputId": "947c283b-b868-4ae9-8398-edaeae6f75cb"
      },
      "id": "jcSwVZR3GwFh",
      "execution_count": 19,
      "outputs": [
        {
          "output_type": "stream",
          "name": "stdout",
          "text": [
            "Union: {'purple', 'blue', 'red'}\n",
            "Intersection: {'blue'}\n",
            "Difference: {'red'}\n",
            "True\n",
            "False\n"
          ]
        }
      ]
    },
    {
      "cell_type": "markdown",
      "source": [
        "| Feature    | Set                                                   |\n",
        "| ---------- | ----------------------------------------------------- |\n",
        "| Ordered    | ❌ No                                                  |\n",
        "| Indexed    | ❌ No                                                  |\n",
        "| Duplicates | ❌ Not allowed                                         |\n",
        "| Mutable    | ✅ Yes                                                 |\n",
        "| Methods    | `add()`, `remove()`, `union()`, `intersection()` etc. |\n"
      ],
      "metadata": {
        "id": "q3SoQvh3HpSo"
      },
      "id": "q3SoQvh3HpSo"
    },
    {
      "cell_type": "markdown",
      "source": [
        "# Tuple\n",
        "A tuple is an ordered, immutable, indexed collection of items.\n",
        "Used when you want to store multiple values that should not change.\n",
        "Defined using parentheses ().\n",
        "\n"
      ],
      "metadata": {
        "id": "KYydHAIZIHgZ"
      },
      "id": "KYydHAIZIHgZ"
    },
    {
      "cell_type": "code",
      "source": [
        "coordinates = (10, 20)\n",
        "print(coordinates)     # ➝ (10, 20)\n",
        "t = 1, 2, 3\n",
        "print(t)               # ➝ (1, 2, 3)\n"
      ],
      "metadata": {
        "colab": {
          "base_uri": "https://localhost:8080/"
        },
        "id": "tiZo9Q6zIUSn",
        "outputId": "589e321c-8e84-42d2-947c-9cc53c82622d"
      },
      "id": "tiZo9Q6zIUSn",
      "execution_count": 21,
      "outputs": [
        {
          "output_type": "stream",
          "name": "stdout",
          "text": [
            "(10, 20)\n",
            "(1, 2, 3)\n"
          ]
        }
      ]
    },
    {
      "cell_type": "markdown",
      "source": [
        "| Property       | Description                                      |\n",
        "| -------------- | ------------------------------------------------ |\n",
        "| **Ordered**    | ✅ Yes – items have fixed positions (like a list) |\n",
        "| **Indexed**    | ✅ Yes – you can access by index                  |\n",
        "| **Immutable**  | ✅ Yes – cannot change once created               |\n",
        "| **Duplicates** | ✅ Yes – duplicates are allowed                   |\n",
        "| **Mixed Data** | ✅ Yes – can store different types                |\n"
      ],
      "metadata": {
        "id": "C6YT2DiEIY8v"
      },
      "id": "C6YT2DiEIY8v"
    },
    {
      "cell_type": "markdown",
      "source": [
        "🧪 Accessing Tuple Elements\n"
      ],
      "metadata": {
        "id": "mzznwMCKIrlv"
      },
      "id": "mzznwMCKIrlv"
    },
    {
      "cell_type": "code",
      "source": [
        "student = (\"Alice\", 20, \"Computer Science\")\n",
        "print(student[0])  # ➝ 'Alice'\n",
        "print(student[-1]) # ➝ 'Computer Science'\n"
      ],
      "metadata": {
        "colab": {
          "base_uri": "https://localhost:8080/"
        },
        "id": "dRyCJt_NIufn",
        "outputId": "49085701-0a00-4eac-edab-daf7f34b9ada"
      },
      "id": "dRyCJt_NIufn",
      "execution_count": 22,
      "outputs": [
        {
          "output_type": "stream",
          "name": "stdout",
          "text": [
            "Alice\n",
            "Computer Science\n"
          ]
        }
      ]
    },
    {
      "cell_type": "markdown",
      "source": [
        "🔒 Tuples are Immutable\n",
        "You cannot modify or reassign elements in a tuple.\n"
      ],
      "metadata": {
        "id": "xymed29jI1Rv"
      },
      "id": "xymed29jI1Rv"
    },
    {
      "cell_type": "code",
      "source": [
        "t = (1, 2, 3)\n",
        "# t[0] = 100  # ❌ Error: TypeError: 'tuple' object does not support item assignment\n"
      ],
      "metadata": {
        "id": "CvC5uPrQI5Df"
      },
      "id": "CvC5uPrQI5Df",
      "execution_count": 23,
      "outputs": []
    },
    {
      "cell_type": "markdown",
      "source": [
        "| Function / Method   | Description                               |\n",
        "| ------------------- | ----------------------------------------- |\n",
        "| `len(t)`            | Returns number of elements in tuple       |\n",
        "| `t.count(x)`        | Counts occurrences of value `x`           |\n",
        "| `t.index(x)`        | Returns index of first occurrence of `x`  |\n",
        "| `min(t)` / `max(t)` | Smallest / Largest value (numeric tuples) |\n",
        "| `sum(t)`            | Sum of values (numeric tuples)            |\n",
        "| `tuple()`           | Converts other sequences to tuple         |\n"
      ],
      "metadata": {
        "id": "eRnK9hEYV25-"
      },
      "id": "eRnK9hEYV25-"
    },
    {
      "cell_type": "code",
      "source": [
        "t = (1, 2, 3, 2, 4, 2)\n",
        "\n",
        "print(\"Length:\", len(t))         # 6\n",
        "print(\"Count of 2:\", t.count(2)) # 3\n",
        "print(\"Index of 4:\", t.index(4)) # 4\n",
        "print(\"Sum:\", sum(t))            # 14\n"
      ],
      "metadata": {
        "colab": {
          "base_uri": "https://localhost:8080/"
        },
        "id": "NpwGUYh5V6J9",
        "outputId": "a0f984f6-0483-4bb1-92bf-e25160008333"
      },
      "id": "NpwGUYh5V6J9",
      "execution_count": 25,
      "outputs": [
        {
          "output_type": "stream",
          "name": "stdout",
          "text": [
            "Length: 6\n",
            "Count of 2: 3\n",
            "Index of 4: 4\n",
            "Sum: 14\n"
          ]
        }
      ]
    },
    {
      "cell_type": "markdown",
      "source": [
        "| Feature     | Tuple       | List          |\n",
        "| ----------- | ----------- | ------------- |\n",
        "| Syntax      | `(1, 2, 3)` | `[1, 2, 3]`   |\n",
        "| Mutable?    | ❌ No        | ✅ Yes         |\n",
        "| Ordered?    | ✅ Yes       | ✅ Yes         |\n",
        "| Indexed?    | ✅ Yes       | ✅ Yes         |\n",
        "| Performance | ✅ Faster    | ❌ Slower      |\n",
        "| Use Case    | Fixed data  | Changing data |\n"
      ],
      "metadata": {
        "id": "tGapYOeeV92U"
      },
      "id": "tGapYOeeV92U"
    },
    {
      "cell_type": "markdown",
      "source": [
        "#Dictionary\n",
        "A dictionary is a mutable, unordered (before Python 3.7) but insertion-ordered (from Python 3.7+) collection of key-value pairs.\n",
        "\n",
        "Think of it as a real dictionary:\n",
        "word ➝ meaning\n",
        "key ➝ value"
      ],
      "metadata": {
        "id": "DtDDmsf9W-LT"
      },
      "id": "DtDDmsf9W-LT"
    },
    {
      "cell_type": "markdown",
      "source": [
        "| Property              | Description                                    |\n",
        "| --------------------- | ---------------------------------------------- |\n",
        "| **Mutable**           | ✅ Yes – can change, add, delete items          |\n",
        "| **Ordered**           | ✅ Since Python 3.7 (insertion order preserved) |\n",
        "| **Indexed?**          | ❌ No – accessed by keys, not index numbers     |\n",
        "| **Keys Unique**       | ✅ Yes – keys must be unique                    |\n",
        "| **Values Duplicates** | ✅ Allowed                                      |\n"
      ],
      "metadata": {
        "id": "REuxIeZEXUQ7"
      },
      "id": "REuxIeZEXUQ7"
    },
    {
      "cell_type": "code",
      "source": [
        "student = {\n",
        "    \"name\": \"Alice\",\n",
        "    \"name1\":\"Alice\",\n",
        "    \"age\": 21,\n",
        "    \"course\": \"B.Tech\"\n",
        "}\n"
      ],
      "metadata": {
        "id": "hBmjva8GXKtL"
      },
      "id": "hBmjva8GXKtL",
      "execution_count": 29,
      "outputs": []
    },
    {
      "cell_type": "code",
      "source": [
        "print(student[\"name\"])  # ➝ Alice\n",
        "print(student[\"name1\"])"
      ],
      "metadata": {
        "colab": {
          "base_uri": "https://localhost:8080/"
        },
        "id": "_IsS4Ou1XOmi",
        "outputId": "d4912fab-0c7e-4e06-cef4-afec10dcc5f9"
      },
      "id": "_IsS4Ou1XOmi",
      "execution_count": 30,
      "outputs": [
        {
          "output_type": "stream",
          "name": "stdout",
          "text": [
            "Alice\n",
            "Alice\n"
          ]
        }
      ]
    },
    {
      "cell_type": "markdown",
      "source": [
        "#Dictionary Functions\n",
        "\n",
        "\n",
        "| Function / Method | Description                              |\n",
        "| ----------------- | ---------------------------------------- |\n",
        "| `dict()`          | Creates a dictionary                     |\n",
        "| `len()`           | Number of key-value pairs                |\n",
        "| `keys()`          | Returns all keys                         |\n",
        "| `values()`        | Returns all values                       |\n",
        "| `items()`         | Returns all key-value pairs              |\n",
        "| `get(key)`        | Returns value for key or `None`          |\n",
        "| `update()`        | Adds or updates multiple key-value pairs |\n",
        "| `pop(key)`        | Removes a key and returns its value      |\n",
        "| `clear()`         | Empties the dictionary                   |\n",
        "| `del dict[key]`   | Deletes specific key                     |\n",
        "| `in`              | Check if a key exists                    |\n"
      ],
      "metadata": {
        "id": "59e9aoeVXf47"
      },
      "id": "59e9aoeVXf47"
    },
    {
      "cell_type": "code",
      "source": [
        "# -------------------------------\n",
        "# Creating a Dictionary using dict()\n",
        "# -------------------------------\n",
        "print(\"▶️ 1. Creating a dictionary\")\n",
        "student = dict(name=[\"Alice\",\"Alice\"], age=21, course=\"B.Tech\")\n",
        "print(\"Dictionary:\", student)\n",
        "\n",
        "# -------------------------------\n",
        "# len(): Number of key-value pairs\n",
        "# -------------------------------\n",
        "print(\"\\n▶️ 2. Length of dictionary\")\n",
        "print(\"Length:\", len(student))  # Output: 3\n",
        "\n",
        "# -------------------------------\n",
        "# keys(): Get all keys\n",
        "# -------------------------------\n",
        "print(\"\\n▶️ 3. Get all keys\")\n",
        "print(\"Keys:\", student.keys())\n",
        "\n",
        "# -------------------------------\n",
        "# values(): Get all values\n",
        "# -------------------------------\n",
        "print(\"\\n▶️ 4. Get all values\")\n",
        "print(\"Values:\", student.values())\n",
        "\n",
        "# -------------------------------\n",
        "# items(): Get all key-value pairs\n",
        "# -------------------------------\n",
        "print(\"\\n▶️ 5. Get all key-value pairs\")\n",
        "print(\"Items:\", student.items())\n",
        "\n",
        "# -------------------------------\n",
        "# get(): Safely access values\n",
        "# -------------------------------\n",
        "print(\"\\n▶️ 6. Get value for key 'course'\")\n",
        "print(\"Course:\", student.get(\"course\"))\n",
        "print(\"Grade (not present):\", student.get(\"grade\"))  # Returns None, no error\n",
        "\n",
        "# -------------------------------\n",
        "# update(): Add or update values\n",
        "# -------------------------------\n",
        "print(\"\\n▶️ 7. Update the dictionary\")\n",
        "student.update({\"grade\": \"A\", \"age\": 22})\n",
        "print(\"Updated dictionary:\", student)\n",
        "\n",
        "# -------------------------------\n",
        "# pop(): Remove a key and get its value\n",
        "# -------------------------------\n",
        "print(\"\\n▶️ 8. Remove key using pop()\")\n",
        "removed_value = student.pop(\"grade\")\n",
        "print(\"Removed 'grade':\", removed_value)\n",
        "print(\"After pop:\", student)\n",
        "\n",
        "# -------------------------------\n",
        "# clear(): Remove all items\n",
        "# -------------------------------\n",
        "print(\"\\n▶️ 9. Clear the dictionary\")\n",
        "backup = student.copy()  # Save a copy before clearing\n",
        "student.clear()\n",
        "print(\"After clear:\", student)\n",
        "\n",
        "# -------------------------------\n",
        "# del: Delete a specific key\n",
        "# -------------------------------\n",
        "print(\"\\n▶️ 10. Delete specific key using del\")\n",
        "person = {\"name\": \"John\", \"age\": 30}\n",
        "print(\"Before deletion:\", person)\n",
        "del person[\"age\"]\n",
        "print(\"After deleting 'age':\", person)\n",
        "\n",
        "# -------------------------------\n",
        "# in: Check if key exists\n",
        "# -------------------------------\n",
        "print(\"\\n▶️ 11. Check key existence using 'in'\")\n",
        "if \"name\" in person:\n",
        "    print(\"Key 'name' exists!\")\n",
        "else:\n",
        "    print(\"Key 'name' not found.\")\n",
        "\n",
        "if \"age\" in person:\n",
        "    print(\"Key 'age' exists!\")\n",
        "else:\n",
        "    print(\"Key 'age' not found.\")\n"
      ],
      "metadata": {
        "colab": {
          "base_uri": "https://localhost:8080/"
        },
        "id": "4CKIr31eX826",
        "outputId": "ef9f5214-b079-4432-9ac1-e7499c075683"
      },
      "id": "4CKIr31eX826",
      "execution_count": 32,
      "outputs": [
        {
          "output_type": "stream",
          "name": "stdout",
          "text": [
            "▶️ 1. Creating a dictionary\n",
            "Dictionary: {'name': ['Alice', 'Alice'], 'age': 21, 'course': 'B.Tech'}\n",
            "\n",
            "▶️ 2. Length of dictionary\n",
            "Length: 3\n",
            "\n",
            "▶️ 3. Get all keys\n",
            "Keys: dict_keys(['name', 'age', 'course'])\n",
            "\n",
            "▶️ 4. Get all values\n",
            "Values: dict_values([['Alice', 'Alice'], 21, 'B.Tech'])\n",
            "\n",
            "▶️ 5. Get all key-value pairs\n",
            "Items: dict_items([('name', ['Alice', 'Alice']), ('age', 21), ('course', 'B.Tech')])\n",
            "\n",
            "▶️ 6. Get value for key 'course'\n",
            "Course: B.Tech\n",
            "Grade (not present): None\n",
            "\n",
            "▶️ 7. Update the dictionary\n",
            "Updated dictionary: {'name': ['Alice', 'Alice'], 'age': 22, 'course': 'B.Tech', 'grade': 'A'}\n",
            "\n",
            "▶️ 8. Remove key using pop()\n",
            "Removed 'grade': A\n",
            "After pop: {'name': ['Alice', 'Alice'], 'age': 22, 'course': 'B.Tech'}\n",
            "\n",
            "▶️ 9. Clear the dictionary\n",
            "After clear: {}\n",
            "\n",
            "▶️ 10. Delete specific key using del\n",
            "Before deletion: {'name': 'John', 'age': 30}\n",
            "After deleting 'age': {'name': 'John'}\n",
            "\n",
            "▶️ 11. Check key existence using 'in'\n",
            "Key 'name' exists!\n",
            "Key 'age' not found.\n"
          ]
        }
      ]
    },
    {
      "cell_type": "markdown",
      "id": "58ab6f82",
      "metadata": {
        "id": "58ab6f82"
      },
      "source": [
        "\n",
        "##  Conditional Statements\n",
        "### ➤ Why Needed?\n",
        "To make decisions in the program based on conditions.\n",
        "\n",
        "### ➤ Example with Explanation:\n"
      ]
    },
    {
      "cell_type": "code",
      "execution_count": null,
      "id": "fcb88f88",
      "metadata": {
        "colab": {
          "base_uri": "https://localhost:8080/"
        },
        "id": "fcb88f88",
        "outputId": "c1740ade-a949-481c-ecdc-a5ff9cba4a8f"
      },
      "outputs": [
        {
          "output_type": "stream",
          "name": "stdout",
          "text": [
            "Enter your age: 19\n",
            "You are an adult.\n"
          ]
        }
      ],
      "source": [
        "\n",
        "# Example of Conditional Statement\n",
        "age = int(input(\"Enter your age: \"))\n",
        "\n",
        "if age >= 18:\n",
        "    print(\"You are an adult.\")\n",
        "elif age > 12:\n",
        "    print(\"You are a teenager.\")\n",
        "else:\n",
        "    print(\"You are a child.\")\n"
      ]
    },
    {
      "cell_type": "markdown",
      "id": "6beba819",
      "metadata": {
        "id": "6beba819"
      },
      "source": [
        "\n",
        "### ✅ Practice Questions:\n",
        "1. Write a program to check if a number is positive or negative.\n",
        "2. Write a program that checks whether a person can vote (age >= 18).\n"
      ]
    },
    {
      "cell_type": "markdown",
      "id": "c0396e15",
      "metadata": {
        "id": "c0396e15"
      },
      "source": [
        "## Simple Calculator"
      ]
    },
    {
      "cell_type": "code",
      "execution_count": null,
      "id": "e2247ccf",
      "metadata": {
        "colab": {
          "base_uri": "https://localhost:8080/"
        },
        "id": "e2247ccf",
        "outputId": "da6682bf-76bd-4cf4-ed0a-90a454fff957"
      },
      "outputs": [
        {
          "output_type": "stream",
          "name": "stdout",
          "text": [
            "Enter first number: 20\n",
            "Enter second number: 23\n",
            "Choose operation (+, -, *, /): +\n",
            "Result: 43.0\n"
          ]
        }
      ],
      "source": [
        "# Simple calculator for two numbers\n",
        "a = float(input(\"Enter first number: \"))\n",
        "b = float(input(\"Enter second number: \"))\n",
        "operation = input(\"Choose operation (+, -, *, /): \")\n",
        "\n",
        "if operation == '+':\n",
        "    print(\"Result:\", a + b)\n",
        "elif operation == '-':\n",
        "    print(\"Result:\", a - b)\n",
        "elif operation == '*':\n",
        "    print(\"Result:\", a * b)\n",
        "elif operation == '/':\n",
        "    print(\"Result:\", a / b)\n",
        "else:\n",
        "    print(\"Invalid operation\")"
      ]
    },
    {
      "cell_type": "code",
      "execution_count": null,
      "id": "0a77a382",
      "metadata": {
        "colab": {
          "base_uri": "https://localhost:8080/"
        },
        "id": "0a77a382",
        "outputId": "473e7ea6-d8a9-4be6-e098-4bb3f59fc9d6"
      },
      "outputs": [
        {
          "output_type": "stream",
          "name": "stdout",
          "text": [
            "Enter base: 3\n",
            "Enter exponent: 2\n",
            "Result: 9.0\n"
          ]
        }
      ],
      "source": [
        "# Exponential calculator\n",
        "base = float(input(\"Enter base: \"))\n",
        "exponent = float(input(\"Enter exponent: \"))\n",
        "print(\"Result:\", base ** exponent)"
      ]
    },
    {
      "cell_type": "markdown",
      "id": "69ba5e8a",
      "metadata": {
        "id": "69ba5e8a"
      },
      "source": [
        "##Loops in Python and Mini Projects"
      ]
    },
    {
      "cell_type": "markdown",
      "source": [
        "Loops are used to repeat a block of code multiple times.\n",
        "\n",
        "for Loop\n",
        "Used when you know how many times you want to repeat something.\n",
        "\n",
        "Real-life analogy:\n",
        "“For every student in the class, give them a notebook.”\n"
      ],
      "metadata": {
        "id": "66bakD4sip7p"
      },
      "id": "66bakD4sip7p"
    },
    {
      "cell_type": "code",
      "source": [
        "#loops through List\n",
        "fruits = [\"apple\", \"banana\", \"cherry\"]\n",
        "for fruit in fruits:\n",
        "    print(fruit)\n",
        "#loops using range()\n",
        "for i in range(5):  # 0 to 4\n",
        "    print(\"Number:\", i)\n"
      ],
      "metadata": {
        "colab": {
          "base_uri": "https://localhost:8080/"
        },
        "id": "3EZTeL9piZ36",
        "outputId": "1b78510c-5a5e-4ab2-bc2d-a146c9848e28"
      },
      "id": "3EZTeL9piZ36",
      "execution_count": null,
      "outputs": [
        {
          "output_type": "stream",
          "name": "stdout",
          "text": [
            "apple\n",
            "banana\n",
            "cherry\n",
            "Number: 0\n",
            "Number: 1\n",
            "Number: 2\n",
            "Number: 3\n",
            "Number: 4\n"
          ]
        }
      ]
    },
    {
      "cell_type": "markdown",
      "source": [
        "#Common for Loop Questions"
      ],
      "metadata": {
        "id": "1U81tRkdkTyd"
      },
      "id": "1U81tRkdkTyd"
    },
    {
      "cell_type": "code",
      "source": [
        "# 1. Print numbers from 1 to 10\n",
        "print(\"1. Numbers from 1 to 10:\")\n",
        "for i in range(1, 11):\n",
        "    print(i)\n",
        "\n",
        "# 2. Print even numbers from 1 to 20\n",
        "print(\"\\n2. Even numbers from 1 to 20:\")\n",
        "for i in range(1, 21):\n",
        "    if i % 2 == 0:\n",
        "        print(i)\n",
        "\n",
        "# 3. Print numbers in reverse from 10 to 1\n",
        "print(\"\\n3. Reverse numbers from 10 to 1:\")\n",
        "for i in range(10, 0, -1):\n",
        "    print(i)\n",
        "\n",
        "# 4. Print squares from 1 to 5\n",
        "print(\"\\n4. Squares from 1 to 5:\")\n",
        "for i in range(1, 6):\n",
        "    print(f\"{i} squared is {i**2}\")\n",
        "\n",
        "# 5. Print each character of a string\n",
        "print(\"\\n5. Characters in the string 'Python':\")\n",
        "text = \"Python\"\n",
        "for ch in text:\n",
        "    print(ch)\n",
        "\n",
        "# 6. Sum of numbers from 1 to 100\n",
        "print(\"\\n6. Sum of numbers from 1 to 100:\")\n",
        "total = 0\n",
        "for i in range(1, 101):\n",
        "    total += i\n",
        "print(\"Total sum:\", total)\n",
        "\n",
        "# 7. Count vowels in a string\n",
        "print(\"\\n7. Count vowels in 'Hello World':\")\n",
        "text = \"Hello World\"\n",
        "count = 0\n",
        "for ch in text.lower():\n",
        "    if ch in \"aeiou\":\n",
        "        count += 1\n",
        "print(\"Number of vowels:\", count)\n",
        "\n",
        "# 8. Print elements of a list\n",
        "print(\"\\n8. Elements of a list:\")\n",
        "fruits = [\"apple\", \"banana\", \"cherry\"]\n",
        "for fruit in fruits:\n",
        "    print(fruit)\n",
        "\n",
        "# 9. Print all elements in uppercase\n",
        "print(\"\\n9. Uppercase names:\")\n",
        "names = [\"alice\", \"bob\", \"carol\"]\n",
        "for name in names:\n",
        "    print(name.upper())\n",
        "\n",
        "# 10. Table of 7\n",
        "print(\"\\n10. Multiplication table of 7:\")\n",
        "n = 7\n",
        "for i in range(1, 11):\n",
        "    print(f\"{n} x {i} = {n*i}\")\n",
        "\n",
        "# 11. Print only positive numbers from list\n",
        "print(\"\\n11. Positive numbers from list:\")\n",
        "nums = [-5, 3, -1, 7, -2, 8]\n",
        "for num in nums:\n",
        "    if num > 0:\n",
        "        print(num)\n",
        "\n",
        "# 12. Sum of elements in a list\n",
        "print(\"\\n12. Sum of marks in list:\")\n",
        "marks = [45, 67, 89, 34]\n",
        "total = 0\n",
        "for mark in marks:\n",
        "    total += mark\n",
        "print(\"Total marks:\", total)\n",
        "\n",
        "# 13. Count occurrence of number 2 in list\n",
        "print(\"\\n13. Count of 2s in list:\")\n",
        "nums = [1, 2, 3, 2, 4, 2, 5]\n",
        "count = 0\n",
        "for num in nums:\n",
        "    if num == 2:\n",
        "        count += 1\n",
        "print(\"2 appears\", count, \"times\")\n",
        "\n",
        "# 14. Pattern: Triangle of *\n",
        "print(\"\\n14. Triangle Pattern:\")\n",
        "for i in range(1, 6):\n",
        "    for j in range(i):\n",
        "        print(\"*\", end=\"\")\n",
        "    print()\n",
        "\n",
        "# 15. Demo of break and continue\n",
        "print(\"\\n15. Loop with break and continue:\")\n",
        "for i in range(10):\n",
        "    if i == 5:\n",
        "        continue  # Skip when i == 5\n",
        "    if i == 8:\n",
        "        break     # Stop when i == 8\n",
        "    print(i)\n",
        "\n"
      ],
      "metadata": {
        "colab": {
          "base_uri": "https://localhost:8080/"
        },
        "id": "usngTOkPiaXV",
        "outputId": "91291a65-201e-49a0-e066-f943a6412f1c"
      },
      "id": "usngTOkPiaXV",
      "execution_count": null,
      "outputs": [
        {
          "output_type": "stream",
          "name": "stdout",
          "text": [
            "1. Numbers from 1 to 10:\n",
            "1\n",
            "2\n",
            "3\n",
            "4\n",
            "5\n",
            "6\n",
            "7\n",
            "8\n",
            "9\n",
            "10\n",
            "\n",
            "2. Even numbers from 1 to 20:\n",
            "2\n",
            "4\n",
            "6\n",
            "8\n",
            "10\n",
            "12\n",
            "14\n",
            "16\n",
            "18\n",
            "20\n",
            "\n",
            "3. Reverse numbers from 10 to 1:\n",
            "10\n",
            "9\n",
            "8\n",
            "7\n",
            "6\n",
            "5\n",
            "4\n",
            "3\n",
            "2\n",
            "1\n",
            "\n",
            "4. Squares from 1 to 5:\n",
            "1 squared is 1\n",
            "2 squared is 4\n",
            "3 squared is 9\n",
            "4 squared is 16\n",
            "5 squared is 25\n",
            "\n",
            "5. Characters in the string 'Python':\n",
            "P\n",
            "y\n",
            "t\n",
            "h\n",
            "o\n",
            "n\n",
            "\n",
            "6. Sum of numbers from 1 to 100:\n",
            "Total sum: 5050\n",
            "\n",
            "7. Count vowels in 'Hello World':\n",
            "Number of vowels: 3\n",
            "\n",
            "8. Elements of a list:\n",
            "apple\n",
            "banana\n",
            "cherry\n",
            "\n",
            "9. Uppercase names:\n",
            "ALICE\n",
            "BOB\n",
            "CAROL\n",
            "\n",
            "10. Multiplication table of 7:\n",
            "7 x 1 = 7\n",
            "7 x 2 = 14\n",
            "7 x 3 = 21\n",
            "7 x 4 = 28\n",
            "7 x 5 = 35\n",
            "7 x 6 = 42\n",
            "7 x 7 = 49\n",
            "7 x 8 = 56\n",
            "7 x 9 = 63\n",
            "7 x 10 = 70\n",
            "\n",
            "11. Positive numbers from list:\n",
            "3\n",
            "7\n",
            "8\n",
            "\n",
            "12. Sum of marks in list:\n",
            "Total marks: 235\n",
            "\n",
            "13. Count of 2s in list:\n",
            "2 appears 3 times\n",
            "\n",
            "14. Triangle Pattern:\n",
            "*\n",
            "**\n",
            "***\n",
            "****\n",
            "*****\n",
            "\n",
            "15. Loop with break and continue:\n",
            "0\n",
            "1\n",
            "2\n",
            "3\n",
            "4\n",
            "6\n",
            "7\n"
          ]
        }
      ]
    },
    {
      "cell_type": "markdown",
      "source": [
        "# while Loop\n",
        "Used when you want to repeat a task until a condition is false.\n",
        "\n",
        "\n"
      ],
      "metadata": {
        "id": "gg5DLsUzkQ0Z"
      },
      "id": "gg5DLsUzkQ0Z"
    },
    {
      "cell_type": "code",
      "source": [
        "count = 1\n",
        "while count <= 5:\n",
        "    print(\"Count is\", count)\n",
        "    count += 1\n"
      ],
      "metadata": {
        "colab": {
          "base_uri": "https://localhost:8080/"
        },
        "id": "cbao2laXlag_",
        "outputId": "2ef89ce4-d8b7-4023-9f14-f4db4d94f0c3"
      },
      "id": "cbao2laXlag_",
      "execution_count": null,
      "outputs": [
        {
          "output_type": "stream",
          "name": "stdout",
          "text": [
            "Count is 1\n",
            "Count is 2\n",
            "Count is 3\n",
            "Count is 4\n",
            "Count is 5\n"
          ]
        }
      ]
    },
    {
      "cell_type": "markdown",
      "source": [
        "# Common While Loop Questions"
      ],
      "metadata": {
        "id": "F0TtnSONllJO"
      },
      "id": "F0TtnSONllJO"
    },
    {
      "cell_type": "code",
      "source": [
        "\n",
        "# 1. Print numbers from 1 to 10\n",
        "print(\"1. Numbers from 1 to 10 (while):\")\n",
        "i = 1\n",
        "while i <= 10:\n",
        "    print(i)\n",
        "    i += 1\n",
        "\n",
        "# 2. Print even numbers from 1 to 20\n",
        "print(\"\\n2. Even numbers from 1 to 20 (while):\")\n",
        "i = 1\n",
        "while i <= 20:\n",
        "    if i % 2 == 0:\n",
        "        print(i)\n",
        "    i += 1\n",
        "\n",
        "# 3. Print numbers in reverse from 10 to 1\n",
        "print(\"\\n3. Reverse numbers from 10 to 1 (while):\")\n",
        "i = 10\n",
        "while i >= 1:\n",
        "    print(i)\n",
        "    i -= 1\n",
        "\n",
        "# 4. Print squares from 1 to 5\n",
        "print(\"\\n4. Squares from 1 to 5 (while):\")\n",
        "i = 1\n",
        "while i <= 5:\n",
        "    print(f\"{i} squared is {i**2}\")\n",
        "    i += 1\n",
        "\n",
        "# 5. Print each character of a string\n",
        "print(\"\\n5. Characters in the string 'Python' (while):\")\n",
        "text = \"Python\"\n",
        "idx = 0\n",
        "while idx < len(text):\n",
        "    print(text[idx])\n",
        "    idx += 1\n",
        "\n",
        "# 6. Sum of numbers from 1 to 100\n",
        "print(\"\\n6. Sum of numbers from 1 to 100 (while):\")\n",
        "i, total = 1, 0\n",
        "while i <= 100:\n",
        "    total += i\n",
        "    i += 1\n",
        "print(\"Total sum:\", total)\n",
        "\n",
        "# 7. Count vowels in a string\n",
        "print(\"\\n7. Count vowels in 'Hello World' (while):\")\n",
        "text = \"Hello World\"\n",
        "idx, count = 0, 0\n",
        "while idx < len(text):\n",
        "    if text[idx].lower() in \"aeiou\":\n",
        "        count += 1\n",
        "    idx += 1\n",
        "print(\"Number of vowels:\", count)\n",
        "\n",
        "# 8. Print elements of a list\n",
        "print(\"\\n8. Elements of a list (while):\")\n",
        "fruits = [\"apple\", \"banana\", \"cherry\"]\n",
        "idx = 0\n",
        "while idx < len(fruits):\n",
        "    print(fruits[idx])\n",
        "    idx += 1\n",
        "\n",
        "# 9. Print all elements in uppercase\n",
        "print(\"\\n9. Uppercase names (while):\")\n",
        "names = [\"alice\", \"bob\", \"carol\"]\n",
        "idx = 0\n",
        "while idx < len(names):\n",
        "    print(names[idx].upper())\n",
        "    idx += 1\n",
        "\n",
        "# 10. Table of 7\n",
        "print(\"\\n10. Multiplication table of 7 (while):\")\n",
        "n, i = 7, 1\n",
        "while i <= 10:\n",
        "    print(f\"{n} x {i} = {n*i}\")\n",
        "    i += 1\n",
        "\n",
        "# 11. Print only positive numbers from list\n",
        "print(\"\\n11. Positive numbers from list (while):\")\n",
        "nums = [-5, 3, -1, 7, -2, 8]\n",
        "idx = 0\n",
        "while idx < len(nums):\n",
        "    if nums[idx] > 0:\n",
        "        print(nums[idx])\n",
        "    idx += 1\n",
        "\n",
        "# 12. Sum of elements in a list\n",
        "print(\"\\n12. Sum of marks in list (while):\")\n",
        "marks = [45, 67, 89, 34]\n",
        "idx, total = 0, 0\n",
        "while idx < len(marks):\n",
        "    total += marks[idx]\n",
        "    idx += 1\n",
        "print(\"Total marks:\", total)\n",
        "\n",
        "# 13. Count occurrence of number 2 in list\n",
        "print(\"\\n13. Count of 2s in list (while):\")\n",
        "nums = [1, 2, 3, 2, 4, 2, 5]\n",
        "idx, count = 0, 0\n",
        "while idx < len(nums):\n",
        "    if nums[idx] == 2:\n",
        "        count += 1\n",
        "    idx += 1\n",
        "print(\"2 appears\", count, \"times\")\n",
        "\n",
        "# 14. Pattern: Triangle of *\n",
        "print(\"\\n14. Triangle Pattern (while):\")\n",
        "row = 1\n",
        "while row <= 5:\n",
        "    col = 0\n",
        "    while col < row:\n",
        "        print(\"*\", end=\"\")\n",
        "        col += 1\n",
        "    print()      # newline after each row\n",
        "    row += 1\n",
        "\n",
        "# 15. Demo of break and continue with while\n",
        "print(\"\\n15. While‑loop with break and continue:\")\n",
        "i = 0\n",
        "while True:\n",
        "    if i == 5:\n",
        "        i += 1\n",
        "        continue       # skip printing 5\n",
        "    if i == 8:\n",
        "        break          # exit loop entirely\n",
        "    print(i)\n",
        "    i += 1\n"
      ],
      "metadata": {
        "colab": {
          "base_uri": "https://localhost:8080/"
        },
        "id": "3hpmQMtSltBg",
        "outputId": "15cc950a-244e-416a-e44d-4da54890bc76"
      },
      "id": "3hpmQMtSltBg",
      "execution_count": null,
      "outputs": [
        {
          "output_type": "stream",
          "name": "stdout",
          "text": [
            "1. Numbers from 1 to 10 (while):\n",
            "1\n",
            "2\n",
            "3\n",
            "4\n",
            "5\n",
            "6\n",
            "7\n",
            "8\n",
            "9\n",
            "10\n",
            "\n",
            "2. Even numbers from 1 to 20 (while):\n",
            "2\n",
            "4\n",
            "6\n",
            "8\n",
            "10\n",
            "12\n",
            "14\n",
            "16\n",
            "18\n",
            "20\n",
            "\n",
            "3. Reverse numbers from 10 to 1 (while):\n",
            "10\n",
            "9\n",
            "8\n",
            "7\n",
            "6\n",
            "5\n",
            "4\n",
            "3\n",
            "2\n",
            "1\n",
            "\n",
            "4. Squares from 1 to 5 (while):\n",
            "1 squared is 1\n",
            "2 squared is 4\n",
            "3 squared is 9\n",
            "4 squared is 16\n",
            "5 squared is 25\n",
            "\n",
            "5. Characters in the string 'Python' (while):\n",
            "P\n",
            "y\n",
            "t\n",
            "h\n",
            "o\n",
            "n\n",
            "\n",
            "6. Sum of numbers from 1 to 100 (while):\n",
            "Total sum: 5050\n",
            "\n",
            "7. Count vowels in 'Hello World' (while):\n",
            "Number of vowels: 3\n",
            "\n",
            "8. Elements of a list (while):\n",
            "apple\n",
            "banana\n",
            "cherry\n",
            "\n",
            "9. Uppercase names (while):\n",
            "ALICE\n",
            "BOB\n",
            "CAROL\n",
            "\n",
            "10. Multiplication table of 7 (while):\n",
            "7 x 1 = 7\n",
            "7 x 2 = 14\n",
            "7 x 3 = 21\n",
            "7 x 4 = 28\n",
            "7 x 5 = 35\n",
            "7 x 6 = 42\n",
            "7 x 7 = 49\n",
            "7 x 8 = 56\n",
            "7 x 9 = 63\n",
            "7 x 10 = 70\n",
            "\n",
            "11. Positive numbers from list (while):\n",
            "3\n",
            "7\n",
            "8\n",
            "\n",
            "12. Sum of marks in list (while):\n",
            "Total marks: 235\n",
            "\n",
            "13. Count of 2s in list (while):\n",
            "2 appears 3 times\n",
            "\n",
            "14. Triangle Pattern (while):\n",
            "*\n",
            "**\n",
            "***\n",
            "****\n",
            "*****\n",
            "\n",
            "15. While‑loop with break and continue:\n",
            "0\n",
            "1\n",
            "2\n",
            "3\n",
            "4\n",
            "6\n",
            "7\n"
          ]
        }
      ]
    },
    {
      "cell_type": "markdown",
      "source": [
        "#🔴 break in Python\n",
        "✅ Purpose:\n",
        "break is used to exit the loop immediately, even if the loop condition is still true.\n",
        "\n"
      ],
      "metadata": {
        "id": "XlXYggSf7z3j"
      },
      "id": "XlXYggSf7z3j"
    },
    {
      "cell_type": "markdown",
      "source": [
        "Example 1 – break in for loop:"
      ],
      "metadata": {
        "id": "LTnjL9-V8AAN"
      },
      "id": "LTnjL9-V8AAN"
    },
    {
      "cell_type": "code",
      "source": [
        "for i in range(1, 10):\n",
        "    if i == 5:\n",
        "        print(\"Breaking the loop at\", i)\n",
        "        break\n",
        "    print(\"i =\", i)\n"
      ],
      "metadata": {
        "colab": {
          "base_uri": "https://localhost:8080/"
        },
        "id": "4izXxMo48Fio",
        "outputId": "c95abd8c-3c78-4c6e-f146-53490a77af14"
      },
      "id": "4izXxMo48Fio",
      "execution_count": null,
      "outputs": [
        {
          "output_type": "stream",
          "name": "stdout",
          "text": [
            "i = 1\n",
            "i = 2\n",
            "i = 3\n",
            "i = 4\n",
            "Breaking the loop at 5\n"
          ]
        }
      ]
    },
    {
      "cell_type": "markdown",
      "source": [
        "Example 2:break in while loop:"
      ],
      "metadata": {
        "id": "b5RDho4G8Pvb"
      },
      "id": "b5RDho4G8Pvb"
    },
    {
      "cell_type": "code",
      "source": [
        "i = 1\n",
        "while i <= 10:\n",
        "    if i == 7:\n",
        "        print(\"Loop stopped at\", i)\n",
        "        break\n",
        "    print(\"i =\", i)\n",
        "    i += 1\n"
      ],
      "metadata": {
        "colab": {
          "base_uri": "https://localhost:8080/"
        },
        "id": "1BTJUeXi8VUn",
        "outputId": "7a9b12f1-96fd-4d57-c7f9-8ba52bbfa920"
      },
      "id": "1BTJUeXi8VUn",
      "execution_count": null,
      "outputs": [
        {
          "output_type": "stream",
          "name": "stdout",
          "text": [
            "i = 1\n",
            "i = 2\n",
            "i = 3\n",
            "i = 4\n",
            "i = 5\n",
            "i = 6\n",
            "Loop stopped at 7\n"
          ]
        }
      ]
    },
    {
      "cell_type": "markdown",
      "source": [
        "#🟡 continue in Python\n",
        "✅ Purpose:\n",
        "continue is used to skip the current iteration and move to the next one.\n",
        "\n"
      ],
      "metadata": {
        "id": "S1ZvQUwn8bvK"
      },
      "id": "S1ZvQUwn8bvK"
    },
    {
      "cell_type": "code",
      "source": [
        "for i in range(1, 6):\n",
        "    if i == 3:\n",
        "        print(\"Skipping\", i)\n",
        "        continue\n",
        "    print(\"i =\", i)\n"
      ],
      "metadata": {
        "colab": {
          "base_uri": "https://localhost:8080/"
        },
        "id": "sbjuKcWz8iR_",
        "outputId": "34ad2bc5-e134-4730-f0c7-18938b85a867"
      },
      "id": "sbjuKcWz8iR_",
      "execution_count": null,
      "outputs": [
        {
          "output_type": "stream",
          "name": "stdout",
          "text": [
            "i = 1\n",
            "i = 2\n",
            "Skipping 3\n",
            "i = 4\n",
            "i = 5\n"
          ]
        }
      ]
    },
    {
      "cell_type": "code",
      "source": [
        "i = 0\n",
        "while i < 5:\n",
        "    i += 1\n",
        "    if i == 3:\n",
        "        print(\"Skipping\", i)\n",
        "        continue\n",
        "    print(\"i =\", i)\n"
      ],
      "metadata": {
        "colab": {
          "base_uri": "https://localhost:8080/"
        },
        "id": "1yBsP1Ph8pSZ",
        "outputId": "9e3be9df-ed8a-4b12-c563-91d34d80738a"
      },
      "id": "1yBsP1Ph8pSZ",
      "execution_count": null,
      "outputs": [
        {
          "output_type": "stream",
          "name": "stdout",
          "text": [
            "i = 1\n",
            "i = 2\n",
            "Skipping 3\n",
            "i = 4\n",
            "i = 5\n"
          ]
        }
      ]
    },
    {
      "cell_type": "markdown",
      "source": [
        "#Guess The Number Game"
      ],
      "metadata": {
        "id": "NUELy9wVh6Hx"
      },
      "id": "NUELy9wVh6Hx"
    },
    {
      "cell_type": "code",
      "source": [
        "import random\n",
        "\n",
        "number = random.randint(1, 100)\n",
        "guess = None\n",
        "\n",
        "while guess != number:\n",
        "    guess = int(input(\"Guess the number (1-100): \"))\n",
        "    if guess < number:\n",
        "        print(\"Too low!\")\n",
        "    elif guess > number:\n",
        "        print(\"Too high!\")\n",
        "    else:\n",
        "        print(\"Congratulations! You guessed it.\")\n"
      ],
      "metadata": {
        "colab": {
          "base_uri": "https://localhost:8080/"
        },
        "id": "OWDFY86KhgYy",
        "outputId": "2b550d91-c219-4e9e-cee5-3447ac8736cc"
      },
      "id": "OWDFY86KhgYy",
      "execution_count": null,
      "outputs": [
        {
          "output_type": "stream",
          "name": "stdout",
          "text": [
            "Guess the number (1-100): 4\n",
            "Too low!\n",
            "Guess the number (1-100): 3\n",
            "Too low!\n",
            "Guess the number (1-100): 1\n",
            "Too low!\n",
            "Guess the number (1-100): 3\n",
            "Too low!\n",
            "Guess the number (1-100): 80\n",
            "Too high!\n",
            "Guess the number (1-100): 70\n",
            "Too low!\n",
            "Guess the number (1-100): 75\n",
            "Too low!\n",
            "Guess the number (1-100): 76\n",
            "Congratulations! You guessed it.\n"
          ]
        }
      ]
    },
    {
      "cell_type": "markdown",
      "source": [
        "#✖️ Multiplication Table (within range)\n"
      ],
      "metadata": {
        "id": "TmJrNigziHdS"
      },
      "id": "TmJrNigziHdS"
    },
    {
      "cell_type": "code",
      "execution_count": null,
      "id": "2ebfe40a",
      "metadata": {
        "colab": {
          "base_uri": "https://localhost:8080/"
        },
        "id": "2ebfe40a",
        "outputId": "2cd56a35-7ecb-4afe-cc68-6782368fac30"
      },
      "outputs": [
        {
          "output_type": "stream",
          "name": "stdout",
          "text": [
            "Enter start number: 3\n",
            "Enter end number: 5\n",
            "\n",
            "Multiplication Table for 3\n",
            "3 x 1 = 3\n",
            "3 x 2 = 6\n",
            "3 x 3 = 9\n",
            "3 x 4 = 12\n",
            "3 x 5 = 15\n",
            "3 x 6 = 18\n",
            "3 x 7 = 21\n",
            "3 x 8 = 24\n",
            "3 x 9 = 27\n",
            "3 x 10 = 30\n",
            "\n",
            "Multiplication Table for 4\n",
            "4 x 1 = 4\n",
            "4 x 2 = 8\n",
            "4 x 3 = 12\n",
            "4 x 4 = 16\n",
            "4 x 5 = 20\n",
            "4 x 6 = 24\n",
            "4 x 7 = 28\n",
            "4 x 8 = 32\n",
            "4 x 9 = 36\n",
            "4 x 10 = 40\n",
            "\n",
            "Multiplication Table for 5\n",
            "5 x 1 = 5\n",
            "5 x 2 = 10\n",
            "5 x 3 = 15\n",
            "5 x 4 = 20\n",
            "5 x 5 = 25\n",
            "5 x 6 = 30\n",
            "5 x 7 = 35\n",
            "5 x 8 = 40\n",
            "5 x 9 = 45\n",
            "5 x 10 = 50\n"
          ]
        }
      ],
      "source": [
        "start = int(input(\"Enter start number: \"))\n",
        "end = int(input(\"Enter end number: \"))\n",
        "\n",
        "for i in range(start, end + 1):\n",
        "    print(f\"\\nMultiplication Table for {i}\")\n",
        "    for j in range(1, 11):\n",
        "        print(f\"{i} x {j} = {i*j}\")\n"
      ]
    },
    {
      "cell_type": "code",
      "source": [],
      "metadata": {
        "id": "cW7DBoZNhfXq"
      },
      "id": "cW7DBoZNhfXq",
      "execution_count": null,
      "outputs": []
    },
    {
      "cell_type": "code",
      "execution_count": null,
      "id": "2b4c1757",
      "metadata": {
        "colab": {
          "base_uri": "https://localhost:8080/"
        },
        "id": "2b4c1757",
        "outputId": "49ad17c8-c3e6-48e7-ba86-519f22a64bff"
      },
      "outputs": [
        {
          "output_type": "stream",
          "name": "stdout",
          "text": [
            "Enter a number: 123\n",
            "Sum of digits: 6\n"
          ]
        }
      ],
      "source": [
        "# Mini Project: Sum of digits of a number using while loop\n",
        "number = int(input(\"Enter a number: \"))\n",
        "sum_digits = 0\n",
        "while number > 0:\n",
        "    sum_digits += number % 10\n",
        "    number //= 10\n",
        "print(\"Sum of digits:\", sum_digits)"
      ]
    },
    {
      "cell_type": "markdown",
      "id": "3829cdf5",
      "metadata": {
        "id": "3829cdf5"
      },
      "source": [
        "## Functions in Python\n",
        "Functions help you reuse blocks of code and organize your logic into reusable pieces."
      ]
    },
    {
      "cell_type": "code",
      "execution_count": null,
      "id": "3364e32c",
      "metadata": {
        "colab": {
          "base_uri": "https://localhost:8080/"
        },
        "id": "3364e32c",
        "outputId": "c0e1ff84-a9f5-4375-ffea-333050948543"
      },
      "outputs": [
        {
          "output_type": "stream",
          "name": "stdout",
          "text": [
            "Hello, Alice!\n"
          ]
        }
      ],
      "source": [
        "# Simple function\n",
        "def greet(name):\n",
        "    return f\"Hello, {name}!\"\n",
        "\n",
        "print(greet(\"Alice\"))"
      ]
    },
    {
      "cell_type": "code",
      "execution_count": null,
      "id": "9463ea59",
      "metadata": {
        "colab": {
          "base_uri": "https://localhost:8080/"
        },
        "id": "9463ea59",
        "outputId": "1aba2c1a-6658-47d6-88e1-40942b93969b"
      },
      "outputs": [
        {
          "output_type": "stream",
          "name": "stdout",
          "text": [
            "Square of 3: 9\n",
            "Cube of 2: 8\n"
          ]
        }
      ],
      "source": [
        "# Function with default arguments\n",
        "def power(base, exponent=2):\n",
        "    return base ** exponent\n",
        "\n",
        "print(\"Square of 3:\", power(3))\n",
        "print(\"Cube of 2:\", power(2, 3))"
      ]
    },
    {
      "cell_type": "code",
      "execution_count": null,
      "id": "c22034a5",
      "metadata": {
        "colab": {
          "base_uri": "https://localhost:8080/"
        },
        "id": "c22034a5",
        "outputId": "bf01828e-0e59-4b85-ec58-4e7e74e11382"
      },
      "outputs": [
        {
          "output_type": "stream",
          "name": "stdout",
          "text": [
            "Sum of numbers: 15\n"
          ]
        }
      ],
      "source": [
        "# Function with variable number of arguments\n",
        "def add_all(*args):\n",
        "    return sum(args)\n",
        "\n",
        "print(\"Sum of numbers:\", add_all(1, 2, 3, 4, 5))"
      ]
    },
    {
      "cell_type": "markdown",
      "id": "f5e21f59",
      "metadata": {
        "id": "f5e21f59"
      },
      "source": [
        "### Mini Project: Calculator using Functions"
      ]
    },
    {
      "cell_type": "code",
      "execution_count": null,
      "id": "329b6731",
      "metadata": {
        "colab": {
          "base_uri": "https://localhost:8080/"
        },
        "id": "329b6731",
        "outputId": "8c8ffceb-ea97-42d0-e5d3-89625ea8ada4"
      },
      "outputs": [
        {
          "output_type": "stream",
          "name": "stdout",
          "text": [
            "Enter first number: 2\n",
            "Enter second number: 3\n",
            "Choose operation (+, -, *, /): +\n",
            "Result: 5.0\n"
          ]
        }
      ],
      "source": [
        "def add(a, b):\n",
        "    return a + b\n",
        "\n",
        "def subtract(a, b):\n",
        "    return a - b\n",
        "\n",
        "def multiply(a, b):\n",
        "    return a * b\n",
        "\n",
        "def divide(a, b):\n",
        "    return a / b if b != 0 else \"Cannot divide by zero\"\n",
        "\n",
        "# Main logic\n",
        "a = float(input(\"Enter first number: \"))\n",
        "b = float(input(\"Enter second number: \"))\n",
        "op = input(\"Choose operation (+, -, *, /): \")\n",
        "\n",
        "if op == '+':\n",
        "    print(\"Result:\", add(a, b))\n",
        "elif op == '-':\n",
        "    print(\"Result:\", subtract(a, b))\n",
        "elif op == '*':\n",
        "    print(\"Result:\", multiply(a, b))\n",
        "elif op == '/':\n",
        "    print(\"Result:\", divide(a, b))\n",
        "else:\n",
        "    print(\"Invalid operation\")"
      ]
    },
    {
      "cell_type": "markdown",
      "source": [
        "# Project: Student Marks Management System\n",
        "✅ Concepts Covered:\n",
        "\n",
        "\n",
        "*   Variables\n",
        "*   if-else\n",
        "*   while and for loops\n",
        "*   list, tuple, dictionary\n",
        "*    User input and basic operations\n",
        "\n",
        "\n",
        "\n",
        "\n",
        "🏗️ Project Description:\n",
        "Build a simple system to:\n",
        "\n",
        "\n",
        "1.  Take student details (name, roll, subjects, marks)\n",
        "2.   Store the data in a dictionary\n",
        "3.   Display total, average, and grade\n",
        "4.   Allow searching by roll number\n",
        "\n",
        "\n",
        "\n",
        "\n",
        "💡 Features:\n",
        "\n",
        "\n",
        "1.  Add student records\n",
        "2.  Display all students\n",
        "3.  Search by roll number\n",
        "4. Exit\n",
        ""
      ],
      "metadata": {
        "id": "lNBgmoqBYw5B"
      },
      "id": "lNBgmoqBYw5B"
    },
    {
      "cell_type": "code",
      "source": [
        "students = {}  # Main dictionary to hold student records\n",
        "\n",
        "def add_student():\n",
        "    roll = input(\"Enter Roll Number: \")\n",
        "    name = input(\"Enter Name: \")\n",
        "    subjects = input(\"Enter subjects (comma separated): \").split(',')\n",
        "\n",
        "    marks = []\n",
        "    for subject in subjects:\n",
        "        mark = float(input(f\"Enter marks for {subject.strip()}: \"))\n",
        "        marks.append(mark)\n",
        "\n",
        "    total = sum(marks)\n",
        "    avg = total / len(marks)\n",
        "\n",
        "    # Grade based on average\n",
        "    if avg >= 90:\n",
        "        grade = \"A+\"\n",
        "    elif avg >= 75:\n",
        "        grade = \"A\"\n",
        "    elif avg >= 60:\n",
        "        grade = \"B\"\n",
        "    elif avg >= 50:\n",
        "        grade = \"C\"\n",
        "    else:\n",
        "        grade = \"F\"\n",
        "\n",
        "    # Store in dictionary\n",
        "    students[roll] = {\n",
        "        \"name\": name,\n",
        "        \"subjects\": tuple(subject.strip() for subject in subjects),\n",
        "        \"marks\": marks,\n",
        "        \"total\": total,\n",
        "        \"average\": avg,\n",
        "        \"grade\": grade\n",
        "    }\n",
        "    print(\"✅ Student added successfully!\\n\")\n",
        "\n",
        "\n",
        "def display_all():\n",
        "    if not students:\n",
        "        print(\"⚠️ No student records found.\\n\")\n",
        "        return\n",
        "\n",
        "    for roll, data in students.items():\n",
        "        print(f\"\\n🎓 Roll No: {roll}\")\n",
        "        print(f\"Name: {data['name']}\")\n",
        "        print(\"Subjects and Marks:\")\n",
        "        for i in range(len(data['subjects'])):\n",
        "            print(f\"  {data['subjects'][i]}: {data['marks'][i]}\")\n",
        "        print(f\"Total: {data['total']}\")\n",
        "        print(f\"Average: {data['average']:.2f}\")\n",
        "        print(f\"Grade: {data['grade']}\")\n",
        "\n",
        "\n",
        "def search_student():\n",
        "    roll = input(\"Enter roll number to search: \")\n",
        "    if roll in students:\n",
        "        data = students[roll]\n",
        "        print(f\"\\n🎯 Found Student with Roll No {roll}\")\n",
        "        print(f\"Name: {data['name']}\")\n",
        "        for i in range(len(data['subjects'])):\n",
        "            print(f\"  {data['subjects'][i]}: {data['marks'][i]}\")\n",
        "        print(f\"Total: {data['total']}\")\n",
        "        print(f\"Average: {data['average']:.2f}\")\n",
        "        print(f\"Grade: {data['grade']}\")\n",
        "    else:\n",
        "        print(\"❌ Student not found.\\n\")\n",
        "\n",
        "\n",
        "# Main menu\n",
        "while True:\n",
        "    print(\"\\n📘 Student Marks Management\")\n",
        "    print(\"1. Add Student\")\n",
        "    print(\"2. Display All Students\")\n",
        "    print(\"3. Search Student by Roll Number\")\n",
        "    print(\"4. Exit\")\n",
        "\n",
        "    choice = input(\"Enter your choice (1-4): \")\n",
        "\n",
        "    if choice == \"1\":\n",
        "        add_student()\n",
        "    elif choice == \"2\":\n",
        "        display_all()\n",
        "    elif choice == \"3\":\n",
        "        search_student()\n",
        "    elif choice == \"4\":\n",
        "        print(\"👋 Exiting... Goodbye!\")\n",
        "        break\n",
        "    else:\n",
        "        print(\"⚠️ Invalid choice. Please try again.\")\n"
      ],
      "metadata": {
        "colab": {
          "base_uri": "https://localhost:8080/"
        },
        "id": "5xLLFlZZZu1X",
        "outputId": "f5683fe9-d485-4fb6-8940-0548a1546e8e"
      },
      "id": "5xLLFlZZZu1X",
      "execution_count": 34,
      "outputs": [
        {
          "output_type": "stream",
          "name": "stdout",
          "text": [
            "\n",
            "📘 Student Marks Management\n",
            "1. Add Student\n",
            "2. Display All Students\n",
            "3. Search Student by Roll Number\n",
            "4. Exit\n",
            "Enter your choice (1-4): 1\n",
            "Enter Roll Number: alice\n",
            "Enter Name: 1\n",
            "Enter subjects (comma separated): dbms,maths,science\n",
            "Enter marks for dbms: 90\n",
            "Enter marks for maths: 99\n",
            "Enter marks for science: 45\n",
            "✅ Student added successfully!\n",
            "\n",
            "\n",
            "📘 Student Marks Management\n",
            "1. Add Student\n",
            "2. Display All Students\n",
            "3. Search Student by Roll Number\n",
            "4. Exit\n",
            "Enter your choice (1-4): 3\n",
            "Enter roll number to search: 1\n",
            "❌ Student not found.\n",
            "\n",
            "\n",
            "📘 Student Marks Management\n",
            "1. Add Student\n",
            "2. Display All Students\n",
            "3. Search Student by Roll Number\n",
            "4. Exit\n",
            "Enter your choice (1-4): 4\n",
            "👋 Exiting... Goodbye!\n"
          ]
        }
      ]
    },
    {
      "cell_type": "code",
      "source": [],
      "metadata": {
        "id": "XUpxfEtuZx_3"
      },
      "id": "XUpxfEtuZx_3",
      "execution_count": null,
      "outputs": []
    }
  ],
  "metadata": {
    "colab": {
      "provenance": []
    },
    "language_info": {
      "name": "python"
    },
    "kernelspec": {
      "name": "python3",
      "display_name": "Python 3"
    }
  },
  "nbformat": 4,
  "nbformat_minor": 5
}